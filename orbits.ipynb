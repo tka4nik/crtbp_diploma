{
 "cells": [
  {
   "cell_type": "code",
   "execution_count": 19,
   "id": "initial_id",
   "metadata": {
    "ExecuteTime": {
     "end_time": "2024-09-01T18:04:17.927494Z",
     "start_time": "2024-09-01T18:04:17.924583Z"
    },
    "collapsed": true
   },
   "outputs": [],
   "source": [
    "import pandas as pd\n",
    "import numpy as np\n",
    "import matplotlib.pyplot as plt\n",
    "import orbipy as op\n",
    "import os"
   ]
  },
  {
   "cell_type": "code",
   "execution_count": 15,
   "id": "6233350b4e528074",
   "metadata": {},
   "outputs": [],
   "source": [
    "def save_trajectories_data(data, filename=\"out\", path=\"./data/\", plotter=False):\n",
    "    \"\"\"\n",
    "    Сохраняет данные траекторий в CSV файл и, опционально, сохраняет изображение траектории.\n",
    "\n",
    "    Аргументы:\n",
    "        data (pd.DataFrame): Данные траектории для сохранения.\n",
    "        filename (str, optional): Имя файла для сохранения данных. По умолчанию \"out\".\n",
    "        path (str, optional): Путь к директории для сохранения файла. По умолчанию \"./data/\".\n",
    "        plotter (bool, optional): Если передан объект plotter, сохраняет изображение траектории. По умолчанию False.\n",
    "\n",
    "    Структура сохранения:\n",
    "        - Данные сохраняются в формате CSV в указанной директории.\n",
    "        - Если указан plotter, изображения траекторий сохраняются в поддиректории \"images\" внутри path.\n",
    "    \"\"\"\n",
    "    \n",
    "    if not os.path.exists(path):\n",
    "        os.mkdir(path)\n",
    "    if not os.path.exists(f\"{path}images/\"):\n",
    "        os.mkdir(f\"{path}images/\")\n",
    "\n",
    "    if plotter:\n",
    "        axis = plotter.plot_proj(data)\n",
    "        plotter.plot_proj(plottables=[plotter.m, plotter.L1], marker='.', ax=axis)\n",
    "        plt.savefig(f\"{path}images/{filename}.png\", format=\"png\")\n",
    "        plt.close()\n",
    "    pd.DataFrame.to_csv(data, f\"{path}{filename}.csv\")\n",
    "\n",
    "def generate_and_save_trajectory_data(model, start_data, filename, path, is_plotting):\n",
    "    \"\"\"\n",
    "    Генерирует данные траектории на основе начальных условий и сохраняет их в файл.\n",
    "\n",
    "    Аргументы:\n",
    "        start_data (array-like): Начальные условия для генерации траектории.\n",
    "        is_plotting (bool): Указывает, нужно ли сохранять изображение траектории.\n",
    "    \n",
    "    Генерирует данные траектории на основе начальных условий, и сохраняет данные \n",
    "        в CSV файл и, при необходимости, изображение траектории.\n",
    "    \"\"\"\n",
    "    if is_plotting:\n",
    "        plotter = op.plotter.from_model(model, length_units='Mm')\n",
    "    else:\n",
    "        plotter = None\n",
    "        \n",
    "    start_state = model.get_zero_state()\n",
    "    start_state[[0, 2, 4]] = start_data[1:]\n",
    "\n",
    "    #TODO: Указать кол-во пересечений (цифра 2) в аргументах (в идеале как-то узнавать процедурно?)\n",
    "    detector = op.event_detector(model, events=[op.eventY(count=2)])\n",
    "    data, _ = detector.prop(start_state, 0, 5*np.pi, last_state='last')\n",
    "\n",
    "    save_trajectories_data(data, filename, path, plotter=plotter)\n",
    "\n",
    "def save_trajectories(model, start_data, path, csv_name, is_plotting):\n",
    "    \"\"\"\n",
    "    Сохраняет данные траекторий для набора начальных условий.\n",
    "\n",
    "    Аргументы:\n",
    "        model (object): Модель, используемая для генерации данных траектории.\n",
    "        start_data (pd.DataFrame): DataFrame с начальными условиями для генерации траекторий.\n",
    "        path (str): Основной путь для сохранения данных.\n",
    "        csv_name (str): Название поддиректории для сохранения CSV файлов.\n",
    "        is_plotting (bool): Указывает, нужно ли сохранять изображения траекторий.\n",
    "\n",
    "    Стуктура файлов выглядит так:\n",
    "        - `/path/{csv_name}/{i}_[{start_data}].csv`\n",
    "        - `/path/{csv_name}/images/{i}_[{start_data}].csv`\n",
    "    \"\"\"\n",
    "    for data in start_data[['x', 'z', 'v']].head(10).itertuples(index=True, name=None): #.head(10)\n",
    "        # print(data)\n",
    "        filename = f\"{data[0]}_[{data[1]}_{data[2]}_{data[3]}]\"\n",
    "        generate_and_save_trajectory_data(model, data, filename, f\"{path}{csv_name}/\", is_plotting)"
   ]
  },
  {
   "cell_type": "code",
   "execution_count": 10,
   "id": "209474886fa803ee",
   "metadata": {},
   "outputs": [],
   "source": [
    "def generate_poincare_sections_data(model, start_data, events):\n",
    "    \"\"\"\n",
    "    Генерирует данные сечений Пуанкаре для начального условия и плоскостей сечения.\n",
    "\n",
    "    Аргументы:\n",
    "        model (object): Модель, используемая для генерации данных.\n",
    "        start_data (pd.DataFrame): DataFrame с начальными условиями для генерации траекторий.\n",
    "        events ([op.eventX, op.eventY, ...]): Массив с событиями - пересечение орбитой указанной плоскости.\n",
    "    \"\"\"\n",
    "    start_state = model.get_zero_state()\n",
    "    start_state[[0, 2, 4]] = start_data[1:]\n",
    "    \n",
    "    detector = op.event_detector(model, events=events)\n",
    "    # print(start_state)\n",
    "    data, event_points = detector.prop(start_state, 0, 5 * np.pi, last_state='last')\n",
    "    return event_points\n",
    "\n",
    "def generate_and_save_poincare_sections_data(model, start_data, path):\n",
    "    \"\"\"\n",
    "    Генерирует данные сечений Пуанкаре для начального условия и плоскостей и сохраняет их в файлы.\n",
    "\n",
    "    Аргументы: \n",
    "        model (object): Модель, используемая для генерации данных.\n",
    "        start_data (pd.DataFrame): DataFrame с начальными условиями для генерации сечений.\n",
    "        path (String): Путь для сохранения данных.\n",
    "    \n",
    "    Генерирует данные сечений Пуанкаре и сохраняет их в отдельные файлы с соответствующими названиями.\n",
    "    \"\"\"\n",
    "    if not os.path.exists(path):\n",
    "        os.mkdir(path)\n",
    "    \n",
    "    events = [op.eventX(count=2, terminal=False), op.eventY(count=2, terminal=False), op.eventZ(count=2, terminal=False), op.eventVX(count=2, terminal=False), op.eventVY(count=2, terminal=False), op.eventVZ(count=2, terminal=False)]\n",
    "    event_points = generate_poincare_sections_data(model, start_data, events)\n",
    "    # print(event_points)\n",
    "    for key, value in {0.0: \"X\", 1.0: \"Y\", 2.0: \"Z\", 3.0: \"VX\", 4.0: \"VY\", 5.0: \"VZ\"}.items():\n",
    "        if not event_points.loc[event_points['e'] == key].empty:\n",
    "            pd.DataFrame.to_csv(event_points.loc[event_points['e'] == key],\n",
    "                                f\"{path}{value}_[{start_data[1]}_{start_data[2]}_{start_data[3]}].csv\")\n",
    "    \n",
    "def save_poincare_sections(model, start_data, initial_path, csv_name):\n",
    "    \"\"\"\n",
    "    Генерирует данные сечений Пуанкаре для набора начальных условий и плоскостей и сохраняет их в файлы.\n",
    "\n",
    "    Аргументы: \n",
    "        model (object): Модель, используемая для генерации данных.\n",
    "        start_data (pd.DataFrame): DataFrame с начальными условиями для генерации сечений.\n",
    "        initial_path (String): Основной путь для сохранения данных.\n",
    "        csv_name (String): Название csv-файла с данными.\n",
    "\n",
    "    Стуктура файлов выглядит так:\n",
    "        - `/initial_path/{csv_name}/poincare/{i}/{crosssection_plane}_[{start_data}].csv`\n",
    "    \"\"\"\n",
    "    path = f\"{initial_path}{csv_name}/poincare/\"\n",
    "    if not os.path.exists(path):\n",
    "        os.makedirs(path, exist_ok=True)\n",
    "\n",
    "    for data in start_data[['x', 'z', 'v']].head(10).itertuples(index=True, name=None):\n",
    "        # print(data)\n",
    "        generate_and_save_poincare_sections_data(model, data, f\"{path}{data[0]}/\")\n"
   ]
  },
  {
   "cell_type": "code",
   "execution_count": 11,
   "id": "f7f99610b4c4240c",
   "metadata": {},
   "outputs": [],
   "source": [
    "model = op.crtbp3_model('Earth-Moon (default)')\n",
    "halo = pd.read_csv(\"halo_general_low_l1.csv\")"
   ]
  },
  {
   "cell_type": "code",
   "execution_count": 18,
   "id": "c067a7da9b86a0ff",
   "metadata": {
    "ExecuteTime": {
     "end_time": "2024-09-01T22:51:45.708716Z",
     "start_time": "2024-09-01T22:51:45.513950Z"
    }
   },
   "outputs": [],
   "source": [
    "save_trajectories(model, halo, \"./data/\", \"halo_general_low_l1\", False)"
   ]
  },
  {
   "cell_type": "code",
   "execution_count": 17,
   "id": "eb0d100f41d0dd0d",
   "metadata": {
    "ExecuteTime": {
     "end_time": "2024-09-01T22:51:36.937309Z",
     "start_time": "2024-09-01T22:51:35.686937Z"
    }
   },
   "outputs": [],
   "source": [
    "save_poincare_sections(model, halo, \"./data/\", \"halo_general_low_l1\")"
   ]
  }
 ],
 "metadata": {
  "kernelspec": {
   "display_name": "Python 3",
   "language": "python",
   "name": "python3"
  },
  "language_info": {
   "codemirror_mode": {
    "name": "ipython",
    "version": 3
   },
   "file_extension": ".py",
   "mimetype": "text/x-python",
   "name": "python",
   "nbconvert_exporter": "python",
   "pygments_lexer": "ipython3",
   "version": "3.10.6"
  }
 },
 "nbformat": 4,
 "nbformat_minor": 5
}
