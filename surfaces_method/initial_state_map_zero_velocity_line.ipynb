{
 "cells": [
  {
   "cell_type": "code",
   "id": "initial_id",
   "metadata": {
    "ExecuteTime": {
     "end_time": "2025-05-02T23:11:08.837022Z",
     "start_time": "2025-05-02T23:11:06.484553Z"
    }
   },
   "source": [
    "import orbipy as op\n",
    "import numpy as np\n",
    "from scipy.optimize import bisect"
   ],
   "outputs": [],
   "execution_count": 1
  },
  {
   "cell_type": "code",
   "id": "b0a47a49de0c5736",
   "metadata": {
    "scrolled": true,
    "ExecuteTime": {
     "end_time": "2025-04-16T17:13:30.793180Z",
     "start_time": "2025-04-16T17:13:30.787186Z"
    }
   },
   "source": [
    "model = op.crtbp3_model('Earth-Moon (default)', integrator=op.dopri5_integrator(), stm=True)\n",
    "one_thousand_kms = (1-model.L1) / 61.350\n",
    "\n",
    "left = op.eventX(model.L1 - 33 * one_thousand_kms)\n",
    "right = op.eventX(model.L1 + 53 * one_thousand_kms)\n",
    "\n",
    "points = []\n",
    "dr = 0.3*one_thousand_kms # 1\n",
    "initial_state = model.get_zero_state()\n",
    "initial_state[[0,2]] = [model.L1, 0]\n",
    "points.append(initial_state[[0, 2]])\n",
    "\n",
    "def zero_velocity_correction(correction, initial_state, previous_alpha_degrees):\n",
    "    \"\"\"\n",
    "    Calculates the next point on the zero velocity line.\n",
    "    :param initial_state:\n",
    "    :param previous_alpha_degrees: previous alpha in degrees (also initial alpha), used for approximating the direction of the line\n",
    "    :return: ([x,z], alpha)\n",
    "    \"\"\"\n",
    "    def find_alpha(alpha_degrees):\n",
    "        \"\"\"\n",
    "        Given angle alpha, calculates the state (polar coordinates) and returns the corresponding velocity\n",
    "        \"\"\"\n",
    "        state = model.get_zero_state().copy()\n",
    "        x = initial_state[0] + np.cos(np.radians(alpha_degrees))*dr # np.cos(radians)\n",
    "        z = initial_state[2] + np.sin(np.radians(alpha_degrees))*dr # np.sin(radians)\n",
    "        state[[0,2]] = x, z\n",
    "        v = correction.calc_dv(0, state)\n",
    "        return v[4] # returns vy\n",
    "\n",
    "    # Finding the angle corresponding to the vy=0\n",
    "    res = bisect(find_alpha, previous_alpha_degrees - 30, previous_alpha_degrees + 30, \n",
    "        xtol=1e-6, maxiter=100,\n",
    "        full_output=True)\n",
    "    \n",
    "    target_alpha_degrees = res[0]\n",
    "    print(\"    alpha: \", target_alpha_degrees)\n",
    "    r = np.zeros_like(initial_state)\n",
    "    x = np.cos(np.radians(target_alpha_degrees))*dr\n",
    "    z = np.sin(np.radians(target_alpha_degrees))*dr\n",
    "    r[[0, 2]] = x, z\n",
    "    return r, target_alpha_degrees"
   ],
   "outputs": [],
   "execution_count": 8
  },
  {
   "cell_type": "code",
   "id": "25111c51-acf9-4aec-9226-6aeac11fffcd",
   "metadata": {
    "ExecuteTime": {
     "end_time": "2025-04-16T20:37:59.395819Z",
     "start_time": "2025-04-16T18:20:12.126703Z"
    }
   },
   "source": [
    "alpha = 90 # initial angle, vertical from the x axis\n",
    "\n",
    "for i in range(500):\n",
    "    print(f\"Calculating zvl point {i}:\")\n",
    "    correction = op.border_correction(model, op.y_direction(), left, right)\n",
    "    zero_velocity_point_correction, alpha = zero_velocity_correction(correction, initial_state, alpha)\n",
    "    initial_state += zero_velocity_point_correction\n",
    "    points.append(initial_state[[0, 2]])\n",
    "    print(f\"    resulting state: {points[-1]}\")\n",
    "print(\"==== Finished ====\")"
   ],
   "outputs": [
    {
     "name": "stdout",
     "output_type": "stream",
     "text": [
      "== alpha 80.97599476575851\n",
      "[0.90753365 0.26114736]\n",
      "== alpha 81.10725045204163\n",
      "[0.90765696 0.26193543]\n",
      "== alpha 81.23849898576736\n",
      "[0.90777846 0.26272378]\n",
      "== alpha 81.36966705322266\n",
      "[0.90789816 0.26351241]\n",
      "== alpha 81.50074034929276\n",
      "[0.90801605 0.26430131]\n",
      "== alpha 81.63178861141205\n",
      "[0.90813214 0.26509047]\n",
      "== alpha 81.76276355981827\n",
      "[0.90824642 0.26587991]\n",
      "== alpha 81.89360082149506\n",
      "[0.9083589  0.26666959]\n",
      "== alpha 82.02438622713089\n",
      "[0.90846957 0.26745954]\n",
      "== alpha 82.15506970882416\n",
      "[0.90857845 0.26824973]\n",
      "== alpha 82.28565841913223\n",
      "[0.90868552 0.26904017]\n",
      "== alpha 82.41610586643219\n",
      "[0.9087908  0.26983086]\n",
      "== alpha 82.54647463560104\n",
      "[0.90889427 0.27062178]\n",
      "== alpha 82.6766949892044\n",
      "[0.90899595 0.27141293]\n",
      "== alpha 82.80680447816849\n",
      "[0.90909582 0.27220431]\n",
      "== alpha 82.93677806854248\n",
      "[0.90919391 0.27299592]\n",
      "== alpha 83.06660324335098\n",
      "[0.9092902  0.27378775]\n",
      "== alpha 83.19630146026611\n",
      "[0.9093847  0.27457979]\n",
      "== alpha 83.32584232091904\n",
      "[0.9094774  0.27537204]\n",
      "== alpha 83.45523297786713\n",
      "[0.90956832 0.2761645 ]\n",
      "== alpha 83.58446627855301\n",
      "[0.90965745 0.27695717]\n",
      "== alpha 83.71353685855865\n",
      "[0.90974479 0.27775003]\n",
      "== alpha 83.842433989048\n",
      "[0.90983035 0.27854309]\n",
      "== alpha 83.97117376327515\n",
      "[0.90991413 0.27933634]\n",
      "== alpha 84.09973114728928\n",
      "[0.90999613 0.28012977]\n",
      "== alpha 84.2280900478363\n",
      "[0.91007634 0.28092339]\n",
      "== alpha 84.35630053281784\n",
      "[0.91015479 0.28171718]\n",
      "== alpha 84.48428213596344\n",
      "[0.91023146 0.28251115]\n",
      "== alpha 84.61206525564194\n",
      "[0.91030636 0.28330528]\n",
      "== alpha 84.73971247673035\n",
      "[0.91037949 0.28409958]\n",
      "== alpha 84.86708253622055\n",
      "[0.91045085 0.28489404]\n",
      "== alpha 84.99424874782562\n",
      "[0.91052045 0.28568866]\n",
      "== alpha 85.12124866247177\n",
      "[0.91058829 0.28648343]\n",
      "== alpha 85.24802684783936\n",
      "[0.91065437 0.28727835]\n",
      "== alpha 85.37451893091202\n",
      "[0.9107187  0.28807341]\n",
      "== alpha 85.61133921146393\n",
      "[0.91077973 0.28886873]\n",
      "== alpha 85.9538134932518\n",
      "[0.91083602 0.2896644 ]\n",
      "== alpha 86.08794271945953\n",
      "[0.91089044 0.29046021]\n",
      "== alpha 86.22195392847061\n",
      "[0.910943   0.29125613]\n",
      "== alpha 86.35586500167847\n",
      "[0.9109937  0.29205218]\n",
      "== alpha 86.48961156606674\n",
      "[0.91104254 0.29284834]\n",
      "== alpha 86.6232419013977\n",
      "[0.91108952 0.29364462]\n",
      "== alpha 86.75658792257309\n",
      "[0.91113465 0.294441  ]\n",
      "== alpha 86.8901252746582\n",
      "[0.91117792 0.29523748]\n",
      "== alpha 87.02338725328445\n",
      "[0.91121934 0.29603407]\n",
      "== alpha 87.15635240077972\n",
      "[0.91125892 0.29683075]\n"
     ]
    },
    {
     "name": "stderr",
     "output_type": "stream",
     "text": [
      "capi_return is NULL\n",
      "Call-back cb_solout_in___user__routines failed.\n"
     ]
    },
    {
     "ename": "KeyboardInterrupt",
     "evalue": "",
     "output_type": "error",
     "traceback": [
      "\u001B[0;31m---------------------------------------------------------------------------\u001B[0m",
      "\u001B[0;31mKeyboardInterrupt\u001B[0m                         Traceback (most recent call last)",
      "Cell \u001B[0;32mIn[10], line 5\u001B[0m\n\u001B[1;32m      3\u001B[0m \u001B[38;5;28;01mfor\u001B[39;00m i \u001B[38;5;129;01min\u001B[39;00m \u001B[38;5;28mrange\u001B[39m(\u001B[38;5;241m500\u001B[39m):\n\u001B[1;32m      4\u001B[0m     correction \u001B[38;5;241m=\u001B[39m op\u001B[38;5;241m.\u001B[39mborder_correction(model, op\u001B[38;5;241m.\u001B[39my_direction(), left, right)\n\u001B[0;32m----> 5\u001B[0m     zero_velocity_point_correction, alpha \u001B[38;5;241m=\u001B[39m \u001B[43mzero_velocity_correction\u001B[49m\u001B[43m(\u001B[49m\u001B[43mcorrection\u001B[49m\u001B[43m,\u001B[49m\u001B[43m \u001B[49m\u001B[43minitial_state\u001B[49m\u001B[43m,\u001B[49m\u001B[43m \u001B[49m\u001B[43malpha\u001B[49m\u001B[43m)\u001B[49m\n\u001B[1;32m      6\u001B[0m     initial_state \u001B[38;5;241m+\u001B[39m\u001B[38;5;241m=\u001B[39m zero_velocity_point_correction\n\u001B[1;32m      7\u001B[0m     points\u001B[38;5;241m.\u001B[39mappend(initial_state[[\u001B[38;5;241m0\u001B[39m, \u001B[38;5;241m2\u001B[39m]])\n",
      "Cell \u001B[0;32mIn[8], line 24\u001B[0m, in \u001B[0;36mzero_velocity_correction\u001B[0;34m(correction, initial_state, previous_alpha_degrees)\u001B[0m\n\u001B[1;32m     18\u001B[0m     \u001B[38;5;28;01mreturn\u001B[39;00m v[\u001B[38;5;241m4\u001B[39m]\n\u001B[1;32m     20\u001B[0m \u001B[38;5;66;03m# print(initial_state)\u001B[39;00m\n\u001B[1;32m     21\u001B[0m \u001B[38;5;66;03m# print(\"border left\", find_alpha(previous_alpha_degrees - 60))\u001B[39;00m\n\u001B[1;32m     22\u001B[0m \u001B[38;5;66;03m# print(\"border right\", find_alpha(previous_alpha_degrees + 60))\u001B[39;00m\n\u001B[0;32m---> 24\u001B[0m res \u001B[38;5;241m=\u001B[39m \u001B[43mbisect\u001B[49m\u001B[43m(\u001B[49m\u001B[43mfind_alpha\u001B[49m\u001B[43m,\u001B[49m\u001B[43m \u001B[49m\u001B[43mprevious_alpha_degrees\u001B[49m\u001B[43m \u001B[49m\u001B[38;5;241;43m-\u001B[39;49m\u001B[43m \u001B[49m\u001B[38;5;241;43m30\u001B[39;49m\u001B[43m,\u001B[49m\u001B[43m \u001B[49m\u001B[43mprevious_alpha_degrees\u001B[49m\u001B[43m \u001B[49m\u001B[38;5;241;43m+\u001B[39;49m\u001B[43m \u001B[49m\u001B[38;5;241;43m30\u001B[39;49m\u001B[43m,\u001B[49m\u001B[43m \u001B[49m\n\u001B[1;32m     25\u001B[0m \u001B[43m    \u001B[49m\u001B[43mxtol\u001B[49m\u001B[38;5;241;43m=\u001B[39;49m\u001B[38;5;241;43m1e-6\u001B[39;49m\u001B[43m,\u001B[49m\u001B[43m \u001B[49m\u001B[43mmaxiter\u001B[49m\u001B[38;5;241;43m=\u001B[39;49m\u001B[38;5;241;43m100\u001B[39;49m\u001B[43m,\u001B[49m\n\u001B[1;32m     26\u001B[0m \u001B[43m    \u001B[49m\u001B[43mfull_output\u001B[49m\u001B[38;5;241;43m=\u001B[39;49m\u001B[38;5;28;43;01mTrue\u001B[39;49;00m\u001B[43m)\u001B[49m\n\u001B[1;32m     28\u001B[0m target_alpha_degrees \u001B[38;5;241m=\u001B[39m res[\u001B[38;5;241m0\u001B[39m]\n\u001B[1;32m     29\u001B[0m \u001B[38;5;28mprint\u001B[39m(\u001B[38;5;124m\"\u001B[39m\u001B[38;5;124m== alpha\u001B[39m\u001B[38;5;124m\"\u001B[39m, target_alpha_degrees)\n",
      "File \u001B[0;32m~/Workdir/diploma/project/.venv/lib64/python3.12/site-packages/scipy/optimize/_zeros_py.py:577\u001B[0m, in \u001B[0;36mbisect\u001B[0;34m(f, a, b, args, xtol, rtol, maxiter, full_output, disp)\u001B[0m\n\u001B[1;32m    575\u001B[0m     \u001B[38;5;28;01mraise\u001B[39;00m \u001B[38;5;167;01mValueError\u001B[39;00m(\u001B[38;5;124mf\u001B[39m\u001B[38;5;124m\"\u001B[39m\u001B[38;5;124mrtol too small (\u001B[39m\u001B[38;5;132;01m{\u001B[39;00mrtol\u001B[38;5;132;01m:\u001B[39;00m\u001B[38;5;124mg\u001B[39m\u001B[38;5;132;01m}\u001B[39;00m\u001B[38;5;124m < \u001B[39m\u001B[38;5;132;01m{\u001B[39;00m_rtol\u001B[38;5;132;01m:\u001B[39;00m\u001B[38;5;124mg\u001B[39m\u001B[38;5;132;01m}\u001B[39;00m\u001B[38;5;124m)\u001B[39m\u001B[38;5;124m\"\u001B[39m)\n\u001B[1;32m    576\u001B[0m f \u001B[38;5;241m=\u001B[39m _wrap_nan_raise(f)\n\u001B[0;32m--> 577\u001B[0m r \u001B[38;5;241m=\u001B[39m \u001B[43m_zeros\u001B[49m\u001B[38;5;241;43m.\u001B[39;49m\u001B[43m_bisect\u001B[49m\u001B[43m(\u001B[49m\u001B[43mf\u001B[49m\u001B[43m,\u001B[49m\u001B[43m \u001B[49m\u001B[43ma\u001B[49m\u001B[43m,\u001B[49m\u001B[43m \u001B[49m\u001B[43mb\u001B[49m\u001B[43m,\u001B[49m\u001B[43m \u001B[49m\u001B[43mxtol\u001B[49m\u001B[43m,\u001B[49m\u001B[43m \u001B[49m\u001B[43mrtol\u001B[49m\u001B[43m,\u001B[49m\u001B[43m \u001B[49m\u001B[43mmaxiter\u001B[49m\u001B[43m,\u001B[49m\u001B[43m \u001B[49m\u001B[43margs\u001B[49m\u001B[43m,\u001B[49m\u001B[43m \u001B[49m\u001B[43mfull_output\u001B[49m\u001B[43m,\u001B[49m\u001B[43m \u001B[49m\u001B[43mdisp\u001B[49m\u001B[43m)\u001B[49m\n\u001B[1;32m    578\u001B[0m \u001B[38;5;28;01mreturn\u001B[39;00m results_c(full_output, r, \u001B[38;5;124m\"\u001B[39m\u001B[38;5;124mbisect\u001B[39m\u001B[38;5;124m\"\u001B[39m)\n",
      "File \u001B[0;32m~/Workdir/diploma/project/.venv/lib64/python3.12/site-packages/scipy/optimize/_zeros_py.py:94\u001B[0m, in \u001B[0;36m_wrap_nan_raise.<locals>.f_raise\u001B[0;34m(x, *args)\u001B[0m\n\u001B[1;32m     93\u001B[0m \u001B[38;5;28;01mdef\u001B[39;00m \u001B[38;5;21mf_raise\u001B[39m(x, \u001B[38;5;241m*\u001B[39margs):\n\u001B[0;32m---> 94\u001B[0m     fx \u001B[38;5;241m=\u001B[39m \u001B[43mf\u001B[49m\u001B[43m(\u001B[49m\u001B[43mx\u001B[49m\u001B[43m,\u001B[49m\u001B[43m \u001B[49m\u001B[38;5;241;43m*\u001B[39;49m\u001B[43margs\u001B[49m\u001B[43m)\u001B[49m\n\u001B[1;32m     95\u001B[0m     f_raise\u001B[38;5;241m.\u001B[39m_function_calls \u001B[38;5;241m+\u001B[39m\u001B[38;5;241m=\u001B[39m \u001B[38;5;241m1\u001B[39m\n\u001B[1;32m     96\u001B[0m     \u001B[38;5;28;01mif\u001B[39;00m np\u001B[38;5;241m.\u001B[39misnan(fx):\n",
      "Cell \u001B[0;32mIn[8], line 16\u001B[0m, in \u001B[0;36mzero_velocity_correction.<locals>.find_alpha\u001B[0;34m(alpha_degrees)\u001B[0m\n\u001B[1;32m     14\u001B[0m z \u001B[38;5;241m=\u001B[39m initial_state[\u001B[38;5;241m2\u001B[39m] \u001B[38;5;241m+\u001B[39m np\u001B[38;5;241m.\u001B[39msin(np\u001B[38;5;241m.\u001B[39mradians(alpha_degrees))\u001B[38;5;241m*\u001B[39mdr\n\u001B[1;32m     15\u001B[0m state[[\u001B[38;5;241m0\u001B[39m,\u001B[38;5;241m2\u001B[39m]] \u001B[38;5;241m=\u001B[39m x, z\n\u001B[0;32m---> 16\u001B[0m v \u001B[38;5;241m=\u001B[39m \u001B[43mcorrection\u001B[49m\u001B[38;5;241;43m.\u001B[39;49m\u001B[43mcalc_dv\u001B[49m\u001B[43m(\u001B[49m\u001B[38;5;241;43m0\u001B[39;49m\u001B[43m,\u001B[49m\u001B[43m \u001B[49m\u001B[43mstate\u001B[49m\u001B[43m)\u001B[49m\n\u001B[1;32m     17\u001B[0m \u001B[38;5;66;03m# print(v[4])\u001B[39;00m\n\u001B[1;32m     18\u001B[0m \u001B[38;5;28;01mreturn\u001B[39;00m v[\u001B[38;5;241m4\u001B[39m]\n",
      "File \u001B[0;32m~/Workdir/diploma/project/.venv/lib/python3.12/site-packages/orbipy/corrections.py:128\u001B[0m, in \u001B[0;36mborder_correction.calc_dv\u001B[0;34m(self, t, s)\u001B[0m\n\u001B[1;32m    125\u001B[0m             \u001B[38;5;28;01mraise\u001B[39;00m \u001B[38;5;167;01mRuntimeError\u001B[39;00m(\u001B[38;5;28mself\u001B[39m\u001B[38;5;241m.\u001B[39merror_root_separation)\n\u001B[1;32m    127\u001B[0m         \u001B[38;5;66;03m# root calculation\u001B[39;00m\n\u001B[0;32m--> 128\u001B[0m         res \u001B[38;5;241m=\u001B[39m \u001B[43mbisect\u001B[49m\u001B[43m(\u001B[49m\u001B[43mget_border\u001B[49m\u001B[43m,\u001B[49m\u001B[43m \u001B[49m\u001B[38;5;241;43m-\u001B[39;49m\u001B[43mdv\u001B[49m\u001B[43m,\u001B[49m\u001B[43m \u001B[49m\u001B[43mdv\u001B[49m\u001B[43m,\u001B[49m\u001B[43m \u001B[49m\n\u001B[1;32m    129\u001B[0m \u001B[43m                     \u001B[49m\u001B[43mxtol\u001B[49m\u001B[38;5;241;43m=\u001B[39;49m\u001B[38;5;28;43mself\u001B[39;49m\u001B[38;5;241;43m.\u001B[39;49m\u001B[43mtol\u001B[49m\u001B[43m,\u001B[49m\u001B[43m \u001B[49m\u001B[43mmaxiter\u001B[49m\u001B[38;5;241;43m=\u001B[39;49m\u001B[38;5;28;43mself\u001B[39;49m\u001B[38;5;241;43m.\u001B[39;49m\u001B[43miterations\u001B[49m\u001B[43m[\u001B[49m\u001B[38;5;241;43m1\u001B[39;49m\u001B[43m]\u001B[49m\u001B[43m,\u001B[49m\n\u001B[1;32m    130\u001B[0m \u001B[43m                     \u001B[49m\u001B[43mfull_output\u001B[49m\u001B[38;5;241;43m=\u001B[39;49m\u001B[38;5;28;43;01mTrue\u001B[39;49;00m\u001B[43m)\u001B[49m\n\u001B[1;32m    131\u001B[0m         v \u001B[38;5;241m=\u001B[39m res[\u001B[38;5;241m0\u001B[39m]\n\u001B[1;32m    132\u001B[0m \u001B[38;5;66;03m#        print('bisection: %e, it=%d'%(v, res[1].iterations))\u001B[39;00m\n",
      "File \u001B[0;32m~/Workdir/diploma/project/.venv/lib64/python3.12/site-packages/scipy/optimize/_zeros_py.py:577\u001B[0m, in \u001B[0;36mbisect\u001B[0;34m(f, a, b, args, xtol, rtol, maxiter, full_output, disp)\u001B[0m\n\u001B[1;32m    575\u001B[0m     \u001B[38;5;28;01mraise\u001B[39;00m \u001B[38;5;167;01mValueError\u001B[39;00m(\u001B[38;5;124mf\u001B[39m\u001B[38;5;124m\"\u001B[39m\u001B[38;5;124mrtol too small (\u001B[39m\u001B[38;5;132;01m{\u001B[39;00mrtol\u001B[38;5;132;01m:\u001B[39;00m\u001B[38;5;124mg\u001B[39m\u001B[38;5;132;01m}\u001B[39;00m\u001B[38;5;124m < \u001B[39m\u001B[38;5;132;01m{\u001B[39;00m_rtol\u001B[38;5;132;01m:\u001B[39;00m\u001B[38;5;124mg\u001B[39m\u001B[38;5;132;01m}\u001B[39;00m\u001B[38;5;124m)\u001B[39m\u001B[38;5;124m\"\u001B[39m)\n\u001B[1;32m    576\u001B[0m f \u001B[38;5;241m=\u001B[39m _wrap_nan_raise(f)\n\u001B[0;32m--> 577\u001B[0m r \u001B[38;5;241m=\u001B[39m \u001B[43m_zeros\u001B[49m\u001B[38;5;241;43m.\u001B[39;49m\u001B[43m_bisect\u001B[49m\u001B[43m(\u001B[49m\u001B[43mf\u001B[49m\u001B[43m,\u001B[49m\u001B[43m \u001B[49m\u001B[43ma\u001B[49m\u001B[43m,\u001B[49m\u001B[43m \u001B[49m\u001B[43mb\u001B[49m\u001B[43m,\u001B[49m\u001B[43m \u001B[49m\u001B[43mxtol\u001B[49m\u001B[43m,\u001B[49m\u001B[43m \u001B[49m\u001B[43mrtol\u001B[49m\u001B[43m,\u001B[49m\u001B[43m \u001B[49m\u001B[43mmaxiter\u001B[49m\u001B[43m,\u001B[49m\u001B[43m \u001B[49m\u001B[43margs\u001B[49m\u001B[43m,\u001B[49m\u001B[43m \u001B[49m\u001B[43mfull_output\u001B[49m\u001B[43m,\u001B[49m\u001B[43m \u001B[49m\u001B[43mdisp\u001B[49m\u001B[43m)\u001B[49m\n\u001B[1;32m    578\u001B[0m \u001B[38;5;28;01mreturn\u001B[39;00m results_c(full_output, r, \u001B[38;5;124m\"\u001B[39m\u001B[38;5;124mbisect\u001B[39m\u001B[38;5;124m\"\u001B[39m)\n",
      "File \u001B[0;32m~/Workdir/diploma/project/.venv/lib64/python3.12/site-packages/scipy/optimize/_zeros_py.py:94\u001B[0m, in \u001B[0;36m_wrap_nan_raise.<locals>.f_raise\u001B[0;34m(x, *args)\u001B[0m\n\u001B[1;32m     93\u001B[0m \u001B[38;5;28;01mdef\u001B[39;00m \u001B[38;5;21mf_raise\u001B[39m(x, \u001B[38;5;241m*\u001B[39margs):\n\u001B[0;32m---> 94\u001B[0m     fx \u001B[38;5;241m=\u001B[39m \u001B[43mf\u001B[49m\u001B[43m(\u001B[49m\u001B[43mx\u001B[49m\u001B[43m,\u001B[49m\u001B[43m \u001B[49m\u001B[38;5;241;43m*\u001B[39;49m\u001B[43margs\u001B[49m\u001B[43m)\u001B[49m\n\u001B[1;32m     95\u001B[0m     f_raise\u001B[38;5;241m.\u001B[39m_function_calls \u001B[38;5;241m+\u001B[39m\u001B[38;5;241m=\u001B[39m \u001B[38;5;241m1\u001B[39m\n\u001B[1;32m     96\u001B[0m     \u001B[38;5;28;01mif\u001B[39;00m np\u001B[38;5;241m.\u001B[39misnan(fx):\n",
      "File \u001B[0;32m~/Workdir/diploma/project/.venv/lib/python3.12/site-packages/orbipy/corrections.py:110\u001B[0m, in \u001B[0;36mborder_correction.calc_dv.<locals>.get_border\u001B[0;34m(v)\u001B[0m\n\u001B[1;32m    108\u001B[0m \u001B[38;5;28;01melse\u001B[39;00m:\n\u001B[1;32m    109\u001B[0m     s2 \u001B[38;5;241m=\u001B[39m s1\n\u001B[0;32m--> 110\u001B[0m _, ev \u001B[38;5;241m=\u001B[39m \u001B[43mdetector\u001B[49m\u001B[38;5;241;43m.\u001B[39;49m\u001B[43mprop\u001B[49m\u001B[43m(\u001B[49m\u001B[43ms2\u001B[49m\u001B[43m,\u001B[49m\u001B[43m \u001B[49m\u001B[43mt\u001B[49m\u001B[43m,\u001B[49m\u001B[43m \u001B[49m\u001B[43mt\u001B[49m\u001B[38;5;241;43m+\u001B[39;49m\u001B[38;5;28;43mself\u001B[39;49m\u001B[38;5;241;43m.\u001B[39;49m\u001B[43mmaxt\u001B[49m\u001B[43m,\u001B[49m\u001B[43m \u001B[49m\u001B[43mret_df\u001B[49m\u001B[38;5;241;43m=\u001B[39;49m\u001B[38;5;28;43;01mFalse\u001B[39;49;00m\u001B[43m)\u001B[49m\n\u001B[1;32m    111\u001B[0m \u001B[38;5;28;01mif\u001B[39;00m ev\u001B[38;5;241m.\u001B[39mshape[\u001B[38;5;241m0\u001B[39m] \u001B[38;5;241m<\u001B[39m \u001B[38;5;241m1\u001B[39m:\n\u001B[1;32m    112\u001B[0m     \u001B[38;5;28;01mraise\u001B[39;00m \u001B[38;5;167;01mRuntimeError\u001B[39;00m(\u001B[38;5;28mself\u001B[39m\u001B[38;5;241m.\u001B[39merror_borders_unreachable)\n",
      "File \u001B[0;32m~/Workdir/diploma/project/.venv/lib/python3.12/site-packages/orbipy/events.py:87\u001B[0m, in \u001B[0;36mevent_detector.prop\u001B[0;34m(self, s0, t0, t1, ret_df, last_state)\u001B[0m\n\u001B[1;32m     85\u001B[0m old_solout, old_solout2 \u001B[38;5;241m=\u001B[39m \u001B[38;5;28mself\u001B[39m\u001B[38;5;241m.\u001B[39mmodel\u001B[38;5;241m.\u001B[39msolout, \u001B[38;5;28mself\u001B[39m\u001B[38;5;241m.\u001B[39maccurate_model\u001B[38;5;241m.\u001B[39msolout\n\u001B[1;32m     86\u001B[0m \u001B[38;5;28mself\u001B[39m\u001B[38;5;241m.\u001B[39mmodel\u001B[38;5;241m.\u001B[39msolout \u001B[38;5;241m=\u001B[39m \u001B[38;5;28mself\u001B[39m\u001B[38;5;241m.\u001B[39msolout\n\u001B[0;32m---> 87\u001B[0m df \u001B[38;5;241m=\u001B[39m \u001B[38;5;28;43mself\u001B[39;49m\u001B[38;5;241;43m.\u001B[39;49m\u001B[43mmodel\u001B[49m\u001B[38;5;241;43m.\u001B[39;49m\u001B[43mprop\u001B[49m\u001B[43m(\u001B[49m\u001B[43ms0\u001B[49m\u001B[43m,\u001B[49m\u001B[43m \u001B[49m\u001B[43mt0\u001B[49m\u001B[43m,\u001B[49m\u001B[43m \u001B[49m\u001B[43mt1\u001B[49m\u001B[43m,\u001B[49m\u001B[43m \u001B[49m\u001B[43mret_df\u001B[49m\u001B[38;5;241;43m=\u001B[39;49m\u001B[38;5;28;43;01mFalse\u001B[39;49;00m\u001B[43m)\u001B[49m\n\u001B[1;32m     88\u001B[0m evdf \u001B[38;5;241m=\u001B[39m \u001B[38;5;28mself\u001B[39m\u001B[38;5;241m.\u001B[39maccurate(ret_df\u001B[38;5;241m=\u001B[39m\u001B[38;5;28;01mFalse\u001B[39;00m)\n\u001B[1;32m     89\u001B[0m \u001B[38;5;28mself\u001B[39m\u001B[38;5;241m.\u001B[39mmodel\u001B[38;5;241m.\u001B[39msolout, \u001B[38;5;28mself\u001B[39m\u001B[38;5;241m.\u001B[39maccurate_model\u001B[38;5;241m.\u001B[39msolout \u001B[38;5;241m=\u001B[39m old_solout, old_solout2\n",
      "File \u001B[0;32m~/Workdir/diploma/project/.venv/lib/python3.12/site-packages/orbipy/models.py:401\u001B[0m, in \u001B[0;36mcrtbp3_model.prop\u001B[0;34m(self, s0, t0, t1, ret_df)\u001B[0m\n\u001B[1;32m    374\u001B[0m \u001B[38;5;250m\u001B[39m\u001B[38;5;124;03m'''\u001B[39;00m\n\u001B[1;32m    375\u001B[0m \u001B[38;5;124;03mPropagate spacecraft from initial state s0 at time t0 up to time t1.\u001B[39;00m\n\u001B[1;32m    376\u001B[0m \u001B[38;5;124;03m\u001B[39;00m\n\u001B[0;32m   (...)\u001B[0m\n\u001B[1;32m    398\u001B[0m \u001B[38;5;124;03m\u001B[39;00m\n\u001B[1;32m    399\u001B[0m \u001B[38;5;124;03m'''\u001B[39;00m\n\u001B[1;32m    400\u001B[0m \u001B[38;5;28mself\u001B[39m\u001B[38;5;241m.\u001B[39m_solout\u001B[38;5;241m.\u001B[39mreset()\n\u001B[0;32m--> 401\u001B[0m \u001B[38;5;28;43mself\u001B[39;49m\u001B[38;5;241;43m.\u001B[39;49m\u001B[43mintegrator\u001B[49m\u001B[38;5;241;43m.\u001B[39;49m\u001B[43mintegrate\u001B[49m\u001B[43m(\u001B[49m\u001B[38;5;28;43mself\u001B[39;49m\u001B[38;5;241;43m.\u001B[39;49m\u001B[43mright_part\u001B[49m\u001B[43m,\u001B[49m\u001B[43m \u001B[49m\u001B[43ms0\u001B[49m\u001B[43m,\u001B[49m\u001B[43m \u001B[49m\u001B[43mt0\u001B[49m\u001B[43m,\u001B[49m\u001B[43m \u001B[49m\u001B[43mt1\u001B[49m\u001B[43m,\u001B[49m\u001B[43m \u001B[49m\u001B[43mfargs\u001B[49m\u001B[38;5;241;43m=\u001B[39;49m\u001B[43m(\u001B[49m\u001B[38;5;28;43mself\u001B[39;49m\u001B[38;5;241;43m.\u001B[39;49m\u001B[43m_constants\u001B[49m\u001B[43m,\u001B[49m\u001B[43m)\u001B[49m\u001B[43m)\u001B[49m\n\u001B[1;32m    402\u001B[0m \u001B[38;5;28;01mif\u001B[39;00m ret_df:\n\u001B[1;32m    403\u001B[0m     \u001B[38;5;28;01mreturn\u001B[39;00m \u001B[38;5;28mself\u001B[39m\u001B[38;5;241m.\u001B[39mto_df(\u001B[38;5;28mself\u001B[39m\u001B[38;5;241m.\u001B[39m_solout\u001B[38;5;241m.\u001B[39mout)\n",
      "File \u001B[0;32m~/Workdir/diploma/project/.venv/lib/python3.12/site-packages/orbipy/integrators.py:178\u001B[0m, in \u001B[0;36mdopri5_integrator.integrate\u001B[0;34m(self, func, s0, t0, t1, fargs)\u001B[0m\n\u001B[1;32m    176\u001B[0m \u001B[38;5;28mself\u001B[39m\u001B[38;5;241m.\u001B[39mintegrator\u001B[38;5;241m.\u001B[39mset_f_params(\u001B[38;5;241m*\u001B[39mfargs)  \n\u001B[1;32m    177\u001B[0m \u001B[38;5;28mself\u001B[39m\u001B[38;5;241m.\u001B[39mintegrator\u001B[38;5;241m.\u001B[39mset_initial_value(s0, t0)\n\u001B[0;32m--> 178\u001B[0m \u001B[38;5;28;01mreturn\u001B[39;00m \u001B[38;5;28;43mself\u001B[39;49m\u001B[38;5;241;43m.\u001B[39;49m\u001B[43mintegrator\u001B[49m\u001B[38;5;241;43m.\u001B[39;49m\u001B[43mintegrate\u001B[49m\u001B[43m(\u001B[49m\u001B[43mt1\u001B[49m\u001B[43m)\u001B[49m\n",
      "File \u001B[0;32m~/Workdir/diploma/project/.venv/lib64/python3.12/site-packages/scipy/integrate/_ode.py:431\u001B[0m, in \u001B[0;36mode.integrate\u001B[0;34m(self, t, step, relax)\u001B[0m\n\u001B[1;32m    428\u001B[0m     mth \u001B[38;5;241m=\u001B[39m \u001B[38;5;28mself\u001B[39m\u001B[38;5;241m.\u001B[39m_integrator\u001B[38;5;241m.\u001B[39mrun\n\u001B[1;32m    430\u001B[0m \u001B[38;5;28;01mtry\u001B[39;00m:\n\u001B[0;32m--> 431\u001B[0m     \u001B[38;5;28mself\u001B[39m\u001B[38;5;241m.\u001B[39m_y, \u001B[38;5;28mself\u001B[39m\u001B[38;5;241m.\u001B[39mt \u001B[38;5;241m=\u001B[39m \u001B[43mmth\u001B[49m\u001B[43m(\u001B[49m\u001B[38;5;28;43mself\u001B[39;49m\u001B[38;5;241;43m.\u001B[39;49m\u001B[43mf\u001B[49m\u001B[43m,\u001B[49m\u001B[43m \u001B[49m\u001B[38;5;28;43mself\u001B[39;49m\u001B[38;5;241;43m.\u001B[39;49m\u001B[43mjac\u001B[49m\u001B[43m \u001B[49m\u001B[38;5;129;43;01mor\u001B[39;49;00m\u001B[43m \u001B[49m\u001B[43m(\u001B[49m\u001B[38;5;28;43;01mlambda\u001B[39;49;00m\u001B[43m:\u001B[49m\u001B[43m \u001B[49m\u001B[38;5;28;43;01mNone\u001B[39;49;00m\u001B[43m)\u001B[49m\u001B[43m,\u001B[49m\n\u001B[1;32m    432\u001B[0m \u001B[43m                          \u001B[49m\u001B[38;5;28;43mself\u001B[39;49m\u001B[38;5;241;43m.\u001B[39;49m\u001B[43m_y\u001B[49m\u001B[43m,\u001B[49m\u001B[43m \u001B[49m\u001B[38;5;28;43mself\u001B[39;49m\u001B[38;5;241;43m.\u001B[39;49m\u001B[43mt\u001B[49m\u001B[43m,\u001B[49m\u001B[43m \u001B[49m\u001B[43mt\u001B[49m\u001B[43m,\u001B[49m\n\u001B[1;32m    433\u001B[0m \u001B[43m                          \u001B[49m\u001B[38;5;28;43mself\u001B[39;49m\u001B[38;5;241;43m.\u001B[39;49m\u001B[43mf_params\u001B[49m\u001B[43m,\u001B[49m\u001B[43m \u001B[49m\u001B[38;5;28;43mself\u001B[39;49m\u001B[38;5;241;43m.\u001B[39;49m\u001B[43mjac_params\u001B[49m\u001B[43m)\u001B[49m\n\u001B[1;32m    434\u001B[0m \u001B[38;5;28;01mexcept\u001B[39;00m \u001B[38;5;167;01mSystemError\u001B[39;00m \u001B[38;5;28;01mas\u001B[39;00m e:\n\u001B[1;32m    435\u001B[0m     \u001B[38;5;66;03m# f2py issue with tuple returns, see ticket 1187.\u001B[39;00m\n\u001B[1;32m    436\u001B[0m     \u001B[38;5;28;01mraise\u001B[39;00m \u001B[38;5;167;01mValueError\u001B[39;00m(\n\u001B[1;32m    437\u001B[0m         \u001B[38;5;124m'\u001B[39m\u001B[38;5;124mFunction to integrate must not return a tuple.\u001B[39m\u001B[38;5;124m'\u001B[39m\n\u001B[1;32m    438\u001B[0m     ) \u001B[38;5;28;01mfrom\u001B[39;00m \u001B[38;5;21;01me\u001B[39;00m\n",
      "File \u001B[0;32m~/Workdir/diploma/project/.venv/lib64/python3.12/site-packages/scipy/integrate/_ode.py:1176\u001B[0m, in \u001B[0;36mdopri5.run\u001B[0;34m(self, f, jac, y0, t0, t1, f_params, jac_params)\u001B[0m\n\u001B[1;32m   1175\u001B[0m \u001B[38;5;28;01mdef\u001B[39;00m \u001B[38;5;21mrun\u001B[39m(\u001B[38;5;28mself\u001B[39m, f, jac, y0, t0, t1, f_params, jac_params):\n\u001B[0;32m-> 1176\u001B[0m     x, y, iwork, istate \u001B[38;5;241m=\u001B[39m \u001B[38;5;28;43mself\u001B[39;49m\u001B[38;5;241;43m.\u001B[39;49m\u001B[43mrunner\u001B[49m\u001B[43m(\u001B[49m\u001B[38;5;241;43m*\u001B[39;49m\u001B[43m(\u001B[49m\u001B[43m(\u001B[49m\u001B[43mf\u001B[49m\u001B[43m,\u001B[49m\u001B[43m \u001B[49m\u001B[43mt0\u001B[49m\u001B[43m,\u001B[49m\u001B[43m \u001B[49m\u001B[43my0\u001B[49m\u001B[43m,\u001B[49m\u001B[43m \u001B[49m\u001B[43mt1\u001B[49m\u001B[43m)\u001B[49m\u001B[43m \u001B[49m\u001B[38;5;241;43m+\u001B[39;49m\n\u001B[1;32m   1177\u001B[0m \u001B[43m                                      \u001B[49m\u001B[38;5;28;43mtuple\u001B[39;49m\u001B[43m(\u001B[49m\u001B[38;5;28;43mself\u001B[39;49m\u001B[38;5;241;43m.\u001B[39;49m\u001B[43mcall_args\u001B[49m\u001B[43m)\u001B[49m\u001B[43m \u001B[49m\u001B[38;5;241;43m+\u001B[39;49m\u001B[43m \u001B[49m\u001B[43m(\u001B[49m\u001B[43mf_params\u001B[49m\u001B[43m,\u001B[49m\u001B[43m)\u001B[49m\u001B[43m)\u001B[49m\u001B[43m)\u001B[49m\n\u001B[1;32m   1178\u001B[0m     \u001B[38;5;28mself\u001B[39m\u001B[38;5;241m.\u001B[39mistate \u001B[38;5;241m=\u001B[39m istate\n\u001B[1;32m   1179\u001B[0m     \u001B[38;5;28;01mif\u001B[39;00m istate \u001B[38;5;241m<\u001B[39m \u001B[38;5;241m0\u001B[39m:\n",
      "File \u001B[0;32m~/Workdir/diploma/project/.venv/lib64/python3.12/site-packages/scipy/integrate/_ode.py:1191\u001B[0m, in \u001B[0;36mdopri5._solout\u001B[0;34m(self, nr, xold, x, y, nd, icomp, con)\u001B[0m\n\u001B[1;32m   1189\u001B[0m     \u001B[38;5;28;01mif\u001B[39;00m \u001B[38;5;28mself\u001B[39m\u001B[38;5;241m.\u001B[39msolout_cmplx:\n\u001B[1;32m   1190\u001B[0m         y \u001B[38;5;241m=\u001B[39m y[::\u001B[38;5;241m2\u001B[39m] \u001B[38;5;241m+\u001B[39m \u001B[38;5;241m1\u001B[39mj \u001B[38;5;241m*\u001B[39m y[\u001B[38;5;241m1\u001B[39m::\u001B[38;5;241m2\u001B[39m]\n\u001B[0;32m-> 1191\u001B[0m     \u001B[38;5;28;01mreturn\u001B[39;00m \u001B[38;5;28;43mself\u001B[39;49m\u001B[38;5;241;43m.\u001B[39;49m\u001B[43msolout\u001B[49m\u001B[43m(\u001B[49m\u001B[43mx\u001B[49m\u001B[43m,\u001B[49m\u001B[43m \u001B[49m\u001B[43my\u001B[49m\u001B[43m)\u001B[49m\n\u001B[1;32m   1192\u001B[0m \u001B[38;5;28;01melse\u001B[39;00m:\n\u001B[1;32m   1193\u001B[0m     \u001B[38;5;28;01mreturn\u001B[39;00m \u001B[38;5;241m1\u001B[39m\n",
      "File \u001B[0;32m~/Workdir/diploma/project/.venv/lib/python3.12/site-packages/orbipy/solout.py:65\u001B[0m, in \u001B[0;36mevent_solout.__call__\u001B[0;34m(self, t, s)\u001B[0m\n\u001B[1;32m     62\u001B[0m \u001B[38;5;28mself\u001B[39m\u001B[38;5;241m.\u001B[39mout\u001B[38;5;241m.\u001B[39mappend([t, \u001B[38;5;241m*\u001B[39ms])\n\u001B[1;32m     63\u001B[0m \u001B[38;5;28mself\u001B[39m\u001B[38;5;241m.\u001B[39mevvals\u001B[38;5;241m.\u001B[39mappend(cur_evvals)\n\u001B[0;32m---> 65\u001B[0m \u001B[38;5;28;01mfor\u001B[39;00m i, event \u001B[38;5;129;01min\u001B[39;00m \u001B[38;5;28;43menumerate\u001B[39;49m\u001B[43m(\u001B[49m\u001B[38;5;28;43mself\u001B[39;49m\u001B[38;5;241;43m.\u001B[39;49m\u001B[43m_events\u001B[49m\u001B[43m)\u001B[49m:            \n\u001B[1;32m     66\u001B[0m     cur_val \u001B[38;5;241m=\u001B[39m cur_evvals[i]\n\u001B[1;32m     67\u001B[0m     prev_val \u001B[38;5;241m=\u001B[39m \u001B[38;5;28mself\u001B[39m\u001B[38;5;241m.\u001B[39mevvals[\u001B[38;5;241m-\u001B[39m\u001B[38;5;241m2\u001B[39m][i]\n",
      "\u001B[0;31mKeyboardInterrupt\u001B[0m: "
     ]
    }
   ],
   "execution_count": 10
  },
  {
   "cell_type": "code",
   "id": "58ed57b7-b49a-4e9f-a996-e5752edad4a7",
   "metadata": {
    "ExecuteTime": {
     "end_time": "2025-04-16T20:38:01.623553Z",
     "start_time": "2025-04-16T20:38:01.613534Z"
    }
   },
   "source": [
    "zero_velocity_line = np.array(points)\n",
    "np.save('../data/contour_points/zvl/zvl_4__0_3_dv.npy', zero_velocity_line)\n",
    "print(zero_velocity_line)"
   ],
   "outputs": [
    {
     "name": "stdout",
     "output_type": "stream",
     "text": [
      "[[0.89888846 0.22141865]\n",
      " [0.89910061 0.22218758]\n",
      " [0.89931116 0.22295695]\n",
      " [0.8995201  0.22372676]\n",
      " [0.89972743 0.22449701]\n",
      " [0.89993313 0.22526769]\n",
      " [0.9001372  0.2260388 ]\n",
      " [0.90033962 0.22681035]\n",
      " [0.90054041 0.22758232]\n",
      " [0.90073953 0.22835473]\n",
      " [0.90093699 0.22912756]\n",
      " [0.90113279 0.22990082]\n",
      " [0.9013269  0.2306745 ]\n",
      " [0.90151934 0.2314486 ]\n",
      " [0.90171008 0.23222312]\n",
      " [0.90189913 0.23299805]\n",
      " [0.90208647 0.2337734 ]\n",
      " [0.90227211 0.23454915]\n",
      " [0.90245604 0.23532532]\n",
      " [0.90263825 0.23610189]\n",
      " [0.90281874 0.23687886]\n",
      " [0.9029975  0.23765623]\n",
      " [0.90317452 0.238434  ]\n",
      " [0.90334981 0.23921216]\n",
      " [0.90352336 0.23999071]\n",
      " [0.90369517 0.24076965]\n",
      " [0.90386522 0.24154897]\n",
      " [0.90403352 0.24232867]\n",
      " [0.90420007 0.24310875]\n",
      " [0.90436486 0.24388921]\n",
      " [0.90452786 0.24467003]\n",
      " [0.90468911 0.24545123]\n",
      " [0.90484856 0.24623279]\n",
      " [0.90500602 0.24701475]\n",
      " [0.9051617  0.24779707]\n",
      " [0.9053156  0.24857974]\n",
      " [0.90546771 0.24936276]\n",
      " [0.90561803 0.25014613]\n",
      " [0.90576655 0.25092984]\n",
      " [0.90591328 0.25171389]\n",
      " [0.90605822 0.25249827]\n",
      " [0.90620136 0.25328298]\n",
      " [0.9063427  0.25406802]\n",
      " [0.90648224 0.25485338]\n",
      " [0.90661998 0.25563906]\n",
      " [0.90675591 0.25642505]\n",
      " [0.90689005 0.25721135]\n",
      " [0.90702238 0.25799796]\n",
      " [0.9071529  0.25878487]\n",
      " [0.90728163 0.25957207]\n",
      " [0.90740854 0.26035957]\n",
      " [0.90753365 0.26114736]\n",
      " [0.90765696 0.26193543]\n",
      " [0.90777846 0.26272378]\n",
      " [0.90789816 0.26351241]\n",
      " [0.90801605 0.26430131]\n",
      " [0.90813214 0.26509047]\n",
      " [0.90824642 0.26587991]\n",
      " [0.9083589  0.26666959]\n",
      " [0.90846957 0.26745954]\n",
      " [0.90857845 0.26824973]\n",
      " [0.90868552 0.26904017]\n",
      " [0.9087908  0.26983086]\n",
      " [0.90889427 0.27062178]\n",
      " [0.90899595 0.27141293]\n",
      " [0.90909582 0.27220431]\n",
      " [0.90919391 0.27299592]\n",
      " [0.9092902  0.27378775]\n",
      " [0.9093847  0.27457979]\n",
      " [0.9094774  0.27537204]\n",
      " [0.90956832 0.2761645 ]\n",
      " [0.90965745 0.27695717]\n",
      " [0.90974479 0.27775003]\n",
      " [0.90983035 0.27854309]\n",
      " [0.90991413 0.27933634]\n",
      " [0.90999613 0.28012977]\n",
      " [0.91007634 0.28092339]\n",
      " [0.91015479 0.28171718]\n",
      " [0.91023146 0.28251115]\n",
      " [0.91030636 0.28330528]\n",
      " [0.91037949 0.28409958]\n",
      " [0.91045085 0.28489404]\n",
      " [0.91052045 0.28568866]\n",
      " [0.91058829 0.28648343]\n",
      " [0.91065437 0.28727835]\n",
      " [0.9107187  0.28807341]\n",
      " [0.91077973 0.28886873]\n",
      " [0.91083602 0.2896644 ]\n",
      " [0.91089044 0.29046021]\n",
      " [0.910943   0.29125613]\n",
      " [0.9109937  0.29205218]\n",
      " [0.91104254 0.29284834]\n",
      " [0.91108952 0.29364462]\n",
      " [0.91113465 0.294441  ]\n",
      " [0.91117792 0.29523748]\n",
      " [0.91121934 0.29603407]\n",
      " [0.91125892 0.29683075]]\n"
     ]
    }
   ],
   "execution_count": 11
  },
  {
   "cell_type": "code",
   "id": "1d3236febd2974b8",
   "metadata": {
    "ExecuteTime": {
     "end_time": "2025-04-16T20:38:05.160823Z",
     "start_time": "2025-04-16T20:38:05.033747Z"
    }
   },
   "source": [
    "from matplotlib import pyplot as plt\n",
    "\n",
    "plt.scatter(zero_velocity_line[:,0], zero_velocity_line[:,1], s=2)\n",
    "ax = plt.gca()\n",
    "ax.set_aspect('equal', adjustable='box')\n",
    "plt.show()"
   ],
   "outputs": [
    {
     "data": {
      "text/plain": [
       "<Figure size 640x480 with 1 Axes>"
      ],
      "image/png": "[encoded data removed]"
     },
     "metadata": {},
     "output_type": "display_data"
    }
   ],
   "execution_count": 12
  },
  {
   "cell_type": "code",
   "id": "2f9eb328-e74f-46b8-9a10-00d3513d2abf",
   "metadata": {
    "ExecuteTime": {
     "end_time": "2025-05-02T23:12:06.773538Z",
     "start_time": "2025-05-02T23:12:06.666988Z"
    }
   },
   "source": [
    "from matplotlib import pyplot as plt\n",
    "\n",
    "# data1 = np.load('../data/contour_points/zvl/zvl_2.npy')\n",
    "data2 = np.load('../data/contour_points/zvl/zvl_3.npy')\n",
    "data3 = np.load('../data/contour_points/zvl/zvl_4.npy')\n",
    "# plt.scatter(data1[29:34,0], data1[29:34,1], s=2)\n",
    "plt.scatter(data3[:,0], data3[:,1], s=2)\n",
    "plt.scatter(data2[:,0], data2[:,1], s=2)\n",
    "ax = plt.gca()\n",
    "ax.set_aspect('equal', adjustable='box')\n",
    "plt.show()"
   ],
   "outputs": [
    {
     "data": {
      "text/plain": [
       "<Figure size 640x480 with 1 Axes>"
      ],
      "image/png": "[encoded data removed]"
     },
     "metadata": {},
     "output_type": "display_data"
    }
   ],
   "execution_count": 3
  }
 ],
 "metadata": {
  "kernelspec": {
   "display_name": "Python 3 (ipykernel)",
   "language": "python",
   "name": "python3"
  },
  "language_info": {
   "codemirror_mode": {
    "name": "ipython",
    "version": 3
   },
   "file_extension": ".py",
   "mimetype": "text/x-python",
   "name": "python",
   "nbconvert_exporter": "python",
   "pygments_lexer": "ipython3",
   "version": "3.12.8"
  }
 },
 "nbformat": 4,
 "nbformat_minor": 5
}
