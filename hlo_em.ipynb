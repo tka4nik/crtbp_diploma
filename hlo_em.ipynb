{
 "cells": [
  {
   "cell_type": "code",
   "id": "initial_id",
   "metadata": {
    "ExecuteTime": {
     "end_time": "2025-02-18T17:09:38.592451Z",
     "start_time": "2025-02-18T17:09:35.642335Z"
    }
   },
   "source": [
    "import orbipy as op\n",
    "import numpy as np\n",
    "import pandas as pd\n",
    "from numba.core.ir import Raise\n",
    "from numba.np.arrayobj import np_array\n",
    "from orbipy import plotter\n",
    "from orbipy.correction import border_correction\n",
    "from scipy.optimize import bisect\n"
   ],
   "outputs": [],
   "execution_count": 1
  },
  {
   "cell_type": "code",
   "execution_count": 30,
   "id": "df79455a-ba52-423d-b81a-9c218a6e124d",
   "metadata": {},
   "outputs": [],
   "source": [
    "# ========================================================================="
   ]
  },
  {
   "cell_type": "code",
   "execution_count": 91,
   "id": "b0a47a49de0c5736",
   "metadata": {
    "ExecuteTime": {
     "end_time": "2025-02-08T18:46:12.224180Z",
     "start_time": "2025-02-08T18:46:11.223389Z"
    }
   },
   "outputs": [
    {
     "name": "stdout",
     "output_type": "stream",
     "text": [
      "== alpha 89.15545731782913\n",
      "[0.83699613 0.00797573]\n",
      "== alpha 87.4708503484726\n",
      "[0.83734812 0.01594456]\n",
      "== alpha 85.79967767000198\n",
      "[0.83793236 0.02389973]\n",
      "== alpha 84.15092289447784\n",
      "[0.83874524 0.03183481]\n",
      "== alpha 82.53359109163284\n",
      "[0.83978176 0.03974377]\n",
      "== alpha 80.95673739910126\n",
      "[0.84103552 0.04762122]\n",
      "== alpha 79.42945092916489\n",
      "[0.8424988  0.05546245]\n",
      "== alpha 77.96087980270386\n",
      "[0.84416255 0.06326361]\n",
      "== alpha 76.5602096915245\n",
      "[0.8460165  0.07102177]\n",
      "== alpha 75.23665130138397\n",
      "[0.84804915 0.07873503]\n",
      "== alpha 73.99942427873611\n",
      "[0.85024788 0.08640261]\n",
      "== alpha 72.85770535469055\n",
      "[0.85259895 0.09402485]\n",
      "== alpha 71.82057827711105\n",
      "[0.8550876  0.10160329]\n",
      "== alpha 70.89693903923035\n",
      "[0.85769809 0.10914063]\n",
      "== alpha 70.0953957438469\n",
      "[0.86041376 0.11664071]\n",
      "== alpha 69.42410409450531\n",
      "[0.86321712 0.12410847]\n",
      "== alpha 68.89060288667679\n",
      "[0.86608989 0.13154979]\n",
      "== alpha 68.50155293941498\n",
      "[0.86901312 0.13897144]\n",
      "== alpha 68.26249748468399\n",
      "[0.87196729 0.14638082]\n",
      "== alpha 68.17752420902252\n",
      "[0.87493245 0.15378582]\n",
      "== alpha 68.24895054101944\n",
      "[0.87788837 0.1611945 ]\n",
      "== alpha 68.47698211669922\n",
      "[0.88081479 0.1686149 ]\n",
      "== alpha 68.85938912630081\n",
      "[0.88369161 0.17605466]\n",
      "== alpha 69.39129710197449\n",
      "[0.88649924 0.1835208 ]\n",
      "== alpha 70.06632596254349\n",
      "[0.88921872 0.1910195 ]\n",
      "== alpha 71.1518132686615\n",
      "[0.89179566 0.19856838]\n",
      "== alpha 72.82887607812881\n",
      "[0.89415056 0.20618944]\n",
      "== alpha 73.94488334655762\n",
      "[0.89635658 0.21385492]\n",
      "== alpha 75.13660043478012\n",
      "[0.8984027  0.22156462]\n",
      "== alpha 76.3822478055954\n",
      "[0.90028074 0.22931698]\n",
      "== alpha 77.66555160284042\n",
      "[0.90198468 0.23710946]\n",
      "== alpha 78.96465182304382\n",
      "[0.90351152 0.24493857]\n",
      "== alpha 80.26441186666489\n",
      "[0.90486038 0.25280029]\n",
      "== alpha 81.55055522918701\n",
      "[0.90603243 0.26069031]\n",
      "== alpha 82.81209379434586\n",
      "[0.90703049 0.26860422]\n",
      "== alpha 84.03619945049286\n",
      "[0.90785926 0.27653765]\n",
      "== alpha 85.2183410525322\n",
      "[0.90852418 0.28448649]\n",
      "== alpha 86.35303437709808\n",
      "[0.90903156 0.29244693]\n",
      "== alpha 87.43870049715042\n",
      "[0.90938802 0.30041556]\n",
      "== alpha 88.47265899181366\n",
      "[0.90960063 0.30838933]\n",
      "== alpha 89.45359021425247\n",
      "[0.9096767  0.31636556]\n",
      "== alpha 90.38127958774567\n",
      "[0.90962362 0.32434198]\n",
      "== alpha 91.26451045274734\n",
      "[0.90944759 0.33231664]\n",
      "== alpha 92.09368050098419\n",
      "[0.90915618 0.34028791]\n",
      "== alpha 92.8825905919075\n",
      "[0.90875504 0.34825442]\n",
      "==== Finished ====\n"
     ]
    }
   ],
   "source": [
    "from scipy.optimize import bisect\n",
    "import orbipy as op\n",
    "import numpy as np\n",
    "import pandas as pd\n",
    "import orbipy as op\n",
    "from orbipy import plotter\n",
    "\n",
    "model = op.crtbp3_model('Earth-Moon (default)', integrator=op.dopri5_integrator(), stm=True)\n",
    "one_thousand_kms = (1-model.L1) / 61.350\n",
    "left = op.eventX(model.L1 - 4 * one_thousand_kms)\n",
    "# right = op.eventX(model.L1 + 10 * one_thousand_kms)\n",
    "\n",
    "points = []\n",
    "dr = 3*one_thousand_kms\n",
    "initial_state = model.get_zero_state()\n",
    "initial_state[[0,2]] = [model.L1, 0]\n",
    "points.append(initial_state[[0, 2]])\n",
    "\n",
    "def zero_velocity_correction(correction, initial_state, previous_alpha_degrees):\n",
    "    def find_alpha(alpha_degrees):\n",
    "        state = model.get_zero_state().copy()\n",
    "        x = initial_state[0] + np.cos(np.radians(alpha_degrees))*dr\n",
    "        z = initial_state[2] + np.sin(np.radians(alpha_degrees))*dr\n",
    "        state[[0,2]] = x, z\n",
    "        v = correction.calc_dv(0, state)\n",
    "        # print(v[4])\n",
    "        return v[4]\n",
    "        \n",
    "    # print(initial_state)\n",
    "    # print(\"border left\", find_alpha(previous_alpha_degrees - 60))\n",
    "    # print(\"border right\", find_alpha(previous_alpha_degrees + 60))\n",
    "\n",
    "    res = bisect(find_alpha, previous_alpha_degrees - 30, previous_alpha_degrees + 30, \n",
    "        xtol=1e-6, maxiter=100,\n",
    "        full_output=True)\n",
    "    \n",
    "    target_alpha_degrees = res[0]\n",
    "    print(\"== alpha\", target_alpha_degrees)\n",
    "    r = np.zeros_like(initial_state)\n",
    "    x = np.cos(np.radians(target_alpha_degrees))*dr\n",
    "    z = np.sin(np.radians(target_alpha_degrees))*dr\n",
    "    r[[0, 2]] = x, z\n",
    "    return r, target_alpha_degrees\n",
    "    \n",
    "alpha = 90\n",
    "\n",
    "for i in range(45):\n",
    "    right = op.eventX(model.L1 + (4+i) * one_thousand_kms)\n",
    "    correction = op.border_correction(model, op.y_direction(), left, right, maxt=7*np.pi)\n",
    "    zero_velocity_point_correction, alpha = zero_velocity_correction(correction, initial_state, alpha)\n",
    "    initial_state += zero_velocity_point_correction\n",
    "    points.append(initial_state[[0, 2]])\n",
    "    print(points[-1])\n",
    "print(\"==== Finished ====\")"
   ]
  },
  {
   "cell_type": "code",
   "execution_count": 93,
   "id": "58ed57b7-b49a-4e9f-a996-e5752edad4a7",
   "metadata": {},
   "outputs": [
    {
     "name": "stdout",
     "output_type": "stream",
     "text": [
      "[[0.83687856 0.        ]\n",
      " [0.83699613 0.00797573]\n",
      " [0.83734812 0.01594456]\n",
      " [0.83793236 0.02389973]\n",
      " [0.83874524 0.03183481]\n",
      " [0.83978176 0.03974377]\n",
      " [0.84103552 0.04762122]\n",
      " [0.8424988  0.05546245]\n",
      " [0.84416255 0.06326361]\n",
      " [0.8460165  0.07102177]\n",
      " [0.84804915 0.07873503]\n",
      " [0.85024788 0.08640261]\n",
      " [0.85259895 0.09402485]\n",
      " [0.8550876  0.10160329]\n",
      " [0.85769809 0.10914063]\n",
      " [0.86041376 0.11664071]\n",
      " [0.86321712 0.12410847]\n",
      " [0.86608989 0.13154979]\n",
      " [0.86901312 0.13897144]\n",
      " [0.87196729 0.14638082]\n",
      " [0.87493245 0.15378582]\n",
      " [0.87788837 0.1611945 ]\n",
      " [0.88081479 0.1686149 ]\n",
      " [0.88369161 0.17605466]\n",
      " [0.88649924 0.1835208 ]\n",
      " [0.88921872 0.1910195 ]\n",
      " [0.89179566 0.19856838]\n",
      " [0.89415056 0.20618944]\n",
      " [0.89635658 0.21385492]\n",
      " [0.8984027  0.22156462]\n",
      " [0.90028074 0.22931698]\n",
      " [0.90198468 0.23710946]\n",
      " [0.90351152 0.24493857]\n",
      " [0.90486038 0.25280029]\n",
      " [0.90603243 0.26069031]\n",
      " [0.90703049 0.26860422]\n",
      " [0.90785926 0.27653765]\n",
      " [0.90852418 0.28448649]\n",
      " [0.90903156 0.29244693]\n",
      " [0.90938802 0.30041556]\n",
      " [0.90960063 0.30838933]\n",
      " [0.9096767  0.31636556]\n",
      " [0.90962362 0.32434198]\n",
      " [0.90944759 0.33231664]\n",
      " [0.90915618 0.34028791]\n",
      " [0.90875504 0.34825442]]\n"
     ]
    }
   ],
   "source": [
    "zero_velocity_line = np.array(points)\n",
    "print(zero_velocity_line)"
   ]
  },
  {
   "cell_type": "code",
   "execution_count": 99,
   "id": "1d3236febd2974b8",
   "metadata": {
    "ExecuteTime": {
     "end_time": "2025-02-08T17:59:17.252275189Z",
     "start_time": "2025-02-08T17:56:21.509616Z"
    }
   },
   "outputs": [
    {
     "data": {
      "image/png": "[encoded data removed]",
      "text/plain": [
       "<Figure size 640x480 with 1 Axes>"
      ]
     },
     "metadata": {},
     "output_type": "display_data"
    }
   ],
   "source": [
    "from matplotlib import pyplot as plt\n",
    "\n",
    "plt.scatter(zero_velocity_line[:,0], zero_velocity_line[:,1], s=2)\n",
    "ax = plt.gca()\n",
    "ax.set_aspect('equal', adjustable='box')\n",
    "plt.show()"
   ]
  },
  {
   "cell_type": "code",
   "execution_count": null,
   "id": "186b90af2451715d",
   "metadata": {},
   "outputs": [],
   "source": [
    "plotter = op.plotter.from_model(model, length_units='Mm', velocity_units='km/s')\n",
    "ax = plotter.plot_proj(df, centers={'x':model.L1})\n",
    "plotter.plot_proj(ax=ax, centers={'x':model.L1}, plottables=[plotter.L1, plotter], colors='k',ls='',marker='o')"
   ]
  },
  {
   "cell_type": "code",
   "execution_count": 100,
   "id": "d7bed9ae-bdf8-4285-bd11-1df7aee0566d",
   "metadata": {},
   "outputs": [],
   "source": [
    "datatmp = np.array([\n",
    "       [0.83687856, 0.        ],\n",
    "       [0.83699613, 0.00797573],\n",
    "       [0.83734812, 0.01594456],\n",
    "       [0.83793236, 0.02389973],\n",
    "       [0.83874524, 0.03183481],\n",
    "       [0.83978176, 0.03974377],\n",
    "       [0.84103552, 0.04762122],\n",
    "       [0.8424988 , 0.05546245],\n",
    "       [0.84416255, 0.06326361],\n",
    "       [0.8460165 , 0.07102177],\n",
    "       [0.84804915, 0.07873503],\n",
    "       [0.85024788, 0.08640261],\n",
    "       [0.85259895, 0.09402485],\n",
    "       [0.8550876 , 0.10160329],\n",
    "       [0.85769809, 0.10914063],\n",
    "       [0.86041376, 0.11664071],\n",
    "       [0.86321712, 0.12410846],\n",
    "       [0.86608989, 0.13154979],\n",
    "       [0.86901312, 0.13897143],\n",
    "       [0.87196729, 0.14638082],\n",
    "       [0.87493245, 0.15378581],\n",
    "       [0.87785029, 0.16120958],\n",
    "       [0.880549,   0.16871579],\n",
    "       [0.88316644, 0.17625071]])\n",
    "np.savetxt('zvl_2.txt',zero_velocity_line)\n",
    "np.save('zvl_2',zero_velocity_line)"
   ]
  },
  {
   "metadata": {
    "ExecuteTime": {
     "end_time": "2025-02-18T18:01:01.731548Z",
     "start_time": "2025-02-18T18:01:01.615419Z"
    }
   },
   "cell_type": "code",
   "source": [
    "from matplotlib import pyplot as plt\n",
    "\n",
    "data = np.load('zvl_2.npy')\n",
    "data = np.append(data, [[0.8605417383927447, 0.08328196115253059]], axis=0)\n",
    "plt.scatter(data[:,0], data[:,1], s=2)\n",
    "ax = plt.gca()\n",
    "ax.set_aspect('equal', adjustable='box')\n",
    "plt.show()"
   ],
   "id": "2f9eb328-e74f-46b8-9a10-00d3513d2abf",
   "outputs": [
    {
     "data": {
      "text/plain": [
       "<Figure size 640x480 with 1 Axes>"
      ],
      "image/png": "[encoded data removed]"
     },
     "metadata": {},
     "output_type": "display_data"
    }
   ],
   "execution_count": 19
  },
  {
   "cell_type": "code",
   "id": "63411f14-8158-45fb-b2af-57b3d6e18a03",
   "metadata": {
    "ExecuteTime": {
     "end_time": "2025-02-18T16:29:43.885311Z",
     "start_time": "2025-02-18T16:29:43.873713Z"
    }
   },
   "source": [
    "# =================================="
   ],
   "outputs": [],
   "execution_count": 6
  },
  {
   "cell_type": "code",
   "id": "eba85a5f-74c4-4ec2-9ff5-8585dc86dbde",
   "metadata": {
    "ExecuteTime": {
     "end_time": "2025-02-18T17:09:47.904813Z",
     "start_time": "2025-02-18T17:09:47.899372Z"
    }
   },
   "source": [
    "def jacoby_constant(model, state):\n",
    "    x, y, z, vx, vy, vz = state[:6]\n",
    "    return x**2 + y**2 + 2*((1-model.mu) / np.sqrt((x + model.mu)**2 + y**2 + z**2) + model.mu/np.sqrt((x - 1 + model.mu)**2 + y**2 + z**2)) - (vx**2 + vy**2 + vz**2)"
   ],
   "outputs": [],
   "execution_count": 3
  },
  {
   "cell_type": "code",
   "id": "721786f5-9c35-405d-beff-611d12457c62",
   "metadata": {
    "ExecuteTime": {
     "end_time": "2025-02-18T16:34:06.493047398Z",
     "start_time": "2025-02-18T16:28:51.680068Z"
    }
   },
   "source": [
    "print(jacoby_constant(model, [data[10][0], 0, data[10][1], 0, 0, 0]))"
   ],
   "outputs": [
    {
     "ename": "NameError",
     "evalue": "name 'model' is not defined",
     "output_type": "error",
     "traceback": [
      "\u001B[0;31m---------------------------------------------------------------------------\u001B[0m",
      "\u001B[0;31mNameError\u001B[0m                                 Traceback (most recent call last)",
      "Cell \u001B[0;32mIn[3], line 1\u001B[0m\n\u001B[0;32m----> 1\u001B[0m \u001B[38;5;28mprint\u001B[39m(jacoby_constant(\u001B[43mmodel\u001B[49m, [data[\u001B[38;5;241m10\u001B[39m][\u001B[38;5;241m0\u001B[39m], \u001B[38;5;241m0\u001B[39m, data[\u001B[38;5;241m10\u001B[39m][\u001B[38;5;241m1\u001B[39m], \u001B[38;5;241m0\u001B[39m, \u001B[38;5;241m0\u001B[39m, \u001B[38;5;241m0\u001B[39m]))\n",
      "\u001B[0;31mNameError\u001B[0m: name 'model' is not defined"
     ]
    }
   ],
   "execution_count": 3
  },
  {
   "cell_type": "code",
   "id": "13c1d363-7f04-49f9-bf08-652919ab46d6",
   "metadata": {
    "ExecuteTime": {
     "end_time": "2025-02-18T17:53:59.319680Z",
     "start_time": "2025-02-18T17:18:22.710265Z"
    }
   },
   "source": [
    "model = op.crtbp3_model('Earth-Moon (default)', integrator=op.dopri5_integrator(), stm=True)\n",
    "one_thousand_kms = (1-model.L1) / 61.350\n",
    "left = op.eventX(model.L1 - 4 * one_thousand_kms)\n",
    "right = op.eventX(model.L1 + 10 * one_thousand_kms)\n",
    "\n",
    "points = []\n",
    "dr = 5*one_thousand_kms\n",
    "initial_state = model.get_zero_state()\n",
    "initial_state[[0,2]] = data[10][0], data[10][1]\n",
    "points.append(initial_state[[0, 2]])\n",
    "Cj = jacoby_constant(model, initial_state)\n",
    "\n",
    "def calculate_next_point_with_same_jacoby_constant(correction, state, cj, previous_alpha_degrees):\n",
    "    def calculate_velocity(s):\n",
    "        x, y, z = s[[0, 1, 2]]\n",
    "        return np.sqrt((x**2 + y**2) + 2*((1-model.mu) / np.sqrt((x + model.mu)**2 + y**2 + z**2) + model.mu/np.sqrt((x - 1 + model.mu)**2 + y**2 + z**2)) - cj)\n",
    "\n",
    "    def find_alpha(alpha_degrees):\n",
    "        state = model.get_zero_state().copy()\n",
    "        x = initial_state[0] + np.cos(np.radians(alpha_degrees))*dr\n",
    "        z = initial_state[2] + np.sin(np.radians(alpha_degrees))*dr\n",
    "        state[[0,2]] = x, z\n",
    "        v_calculated = calculate_velocity(state)\n",
    "        v = correction.calc_dv(0, state)[4]\n",
    "        print(\"velocity: \", v, v_calculated, np.abs(v_calculated - v))\n",
    "        return v_calculated - np.abs(v)\n",
    "        \n",
    "    # print(find_alpha(previous_alpha_degrees-15))\n",
    "\n",
    "    res = bisect(find_alpha, previous_alpha_degrees - 30, previous_alpha_degrees + 30, \n",
    "        xtol=1e-6, maxiter=100,\n",
    "        full_output=True)\n",
    "    \n",
    "    target_alpha_degrees = res[0]\n",
    "    print(\"== alpha\", target_alpha_degrees)\n",
    "    r = np.zeros_like(initial_state)\n",
    "    x = np.cos(np.radians(target_alpha_degrees))*dr\n",
    "    z = np.sin(np.radians(target_alpha_degrees))*dr\n",
    "    r[[0, 2]] = x, z\n",
    "    return r, target_alpha_degrees\n",
    "\n",
    "\n",
    "alpha = -10\n",
    "\n",
    "\n",
    "for i in range(3):\n",
    "    correction = op.border_correction(model, op.y_direction(), left, right, maxt=7*np.pi)\n",
    "    next_point_with_same_jakoby_constant, alpha = calculate_next_point_with_same_jacoby_constant(correction, initial_state, Cj, alpha)\n",
    "    initial_state += next_point_with_same_jakoby_constant\n",
    "    points.append(initial_state[[0, 2]])\n",
    "    print(points[-1])\n",
    "print(\"==== Finished ====\")"
   ],
   "outputs": [
    {
     "name": "stdout",
     "output_type": "stream",
     "text": [
      "velocity:  -0.0840669236254153 0.07832566162051921 0.16239258524593453\n"
     ]
    },
    {
     "name": "stderr",
     "output_type": "stream",
     "text": [
      "/tmp/ipykernel_774390/3441350409.py:16: RuntimeWarning: invalid value encountered in sqrt\n",
      "  return np.sqrt((x**2 + y**2) + 2*((1-model.mu) / np.sqrt((x + model.mu)**2 + y**2 + z**2) + model.mu/np.sqrt((x - 1 + model.mu)**2 + y**2 + z**2)) - cj)\n"
     ]
    },
    {
     "ename": "KeyboardInterrupt",
     "evalue": "",
     "output_type": "error",
     "traceback": [
      "\u001B[0;31m---------------------------------------------------------------------------\u001B[0m",
      "\u001B[0;31mKeyboardInterrupt\u001B[0m                         Traceback (most recent call last)",
      "Cell \u001B[0;32mIn[9], line 48\u001B[0m\n\u001B[1;32m     46\u001B[0m \u001B[38;5;28;01mfor\u001B[39;00m i \u001B[38;5;129;01min\u001B[39;00m \u001B[38;5;28mrange\u001B[39m(\u001B[38;5;241m3\u001B[39m):\n\u001B[1;32m     47\u001B[0m     correction \u001B[38;5;241m=\u001B[39m op\u001B[38;5;241m.\u001B[39mborder_correction(model, op\u001B[38;5;241m.\u001B[39my_direction(), left, right, maxt\u001B[38;5;241m=\u001B[39m\u001B[38;5;241m7\u001B[39m\u001B[38;5;241m*\u001B[39mnp\u001B[38;5;241m.\u001B[39mpi)\n\u001B[0;32m---> 48\u001B[0m     next_point_with_same_jakoby_constant, alpha \u001B[38;5;241m=\u001B[39m \u001B[43mcalculate_next_point_with_same_jacoby_constant\u001B[49m\u001B[43m(\u001B[49m\u001B[43mcorrection\u001B[49m\u001B[43m,\u001B[49m\u001B[43m \u001B[49m\u001B[43minitial_state\u001B[49m\u001B[43m,\u001B[49m\u001B[43m \u001B[49m\u001B[43mCj\u001B[49m\u001B[43m,\u001B[49m\u001B[43m \u001B[49m\u001B[43malpha\u001B[49m\u001B[43m)\u001B[49m\n\u001B[1;32m     49\u001B[0m     initial_state \u001B[38;5;241m+\u001B[39m\u001B[38;5;241m=\u001B[39m next_point_with_same_jakoby_constant\n\u001B[1;32m     50\u001B[0m     points\u001B[38;5;241m.\u001B[39mappend(initial_state[[\u001B[38;5;241m0\u001B[39m, \u001B[38;5;241m2\u001B[39m]])\n",
      "Cell \u001B[0;32mIn[9], line 30\u001B[0m, in \u001B[0;36mcalculate_next_point_with_same_jacoby_constant\u001B[0;34m(correction, state, cj, previous_alpha_degrees)\u001B[0m\n\u001B[1;32m     26\u001B[0m     \u001B[38;5;28;01mreturn\u001B[39;00m v_calculated \u001B[38;5;241m-\u001B[39m np\u001B[38;5;241m.\u001B[39mabs(v)\n\u001B[1;32m     28\u001B[0m \u001B[38;5;66;03m# print(find_alpha(previous_alpha_degrees-15))\u001B[39;00m\n\u001B[0;32m---> 30\u001B[0m res \u001B[38;5;241m=\u001B[39m \u001B[43mbisect\u001B[49m\u001B[43m(\u001B[49m\u001B[43mfind_alpha\u001B[49m\u001B[43m,\u001B[49m\u001B[43m \u001B[49m\u001B[43mprevious_alpha_degrees\u001B[49m\u001B[43m \u001B[49m\u001B[38;5;241;43m-\u001B[39;49m\u001B[43m \u001B[49m\u001B[38;5;241;43m30\u001B[39;49m\u001B[43m,\u001B[49m\u001B[43m \u001B[49m\u001B[43mprevious_alpha_degrees\u001B[49m\u001B[43m \u001B[49m\u001B[38;5;241;43m+\u001B[39;49m\u001B[43m \u001B[49m\u001B[38;5;241;43m30\u001B[39;49m\u001B[43m,\u001B[49m\u001B[43m \u001B[49m\n\u001B[1;32m     31\u001B[0m \u001B[43m    \u001B[49m\u001B[43mxtol\u001B[49m\u001B[38;5;241;43m=\u001B[39;49m\u001B[38;5;241;43m1e-6\u001B[39;49m\u001B[43m,\u001B[49m\u001B[43m \u001B[49m\u001B[43mmaxiter\u001B[49m\u001B[38;5;241;43m=\u001B[39;49m\u001B[38;5;241;43m100\u001B[39;49m\u001B[43m,\u001B[49m\n\u001B[1;32m     32\u001B[0m \u001B[43m    \u001B[49m\u001B[43mfull_output\u001B[49m\u001B[38;5;241;43m=\u001B[39;49m\u001B[38;5;28;43;01mTrue\u001B[39;49;00m\u001B[43m)\u001B[49m\n\u001B[1;32m     34\u001B[0m target_alpha_degrees \u001B[38;5;241m=\u001B[39m res[\u001B[38;5;241m0\u001B[39m]\n\u001B[1;32m     35\u001B[0m \u001B[38;5;28mprint\u001B[39m(\u001B[38;5;124m\"\u001B[39m\u001B[38;5;124m== alpha\u001B[39m\u001B[38;5;124m\"\u001B[39m, target_alpha_degrees)\n",
      "File \u001B[0;32m~/Workdir/diploma/project/.venv/lib64/python3.12/site-packages/scipy/optimize/_zeros_py.py:577\u001B[0m, in \u001B[0;36mbisect\u001B[0;34m(f, a, b, args, xtol, rtol, maxiter, full_output, disp)\u001B[0m\n\u001B[1;32m    575\u001B[0m     \u001B[38;5;28;01mraise\u001B[39;00m \u001B[38;5;167;01mValueError\u001B[39;00m(\u001B[38;5;124mf\u001B[39m\u001B[38;5;124m\"\u001B[39m\u001B[38;5;124mrtol too small (\u001B[39m\u001B[38;5;132;01m{\u001B[39;00mrtol\u001B[38;5;132;01m:\u001B[39;00m\u001B[38;5;124mg\u001B[39m\u001B[38;5;132;01m}\u001B[39;00m\u001B[38;5;124m < \u001B[39m\u001B[38;5;132;01m{\u001B[39;00m_rtol\u001B[38;5;132;01m:\u001B[39;00m\u001B[38;5;124mg\u001B[39m\u001B[38;5;132;01m}\u001B[39;00m\u001B[38;5;124m)\u001B[39m\u001B[38;5;124m\"\u001B[39m)\n\u001B[1;32m    576\u001B[0m f \u001B[38;5;241m=\u001B[39m _wrap_nan_raise(f)\n\u001B[0;32m--> 577\u001B[0m r \u001B[38;5;241m=\u001B[39m \u001B[43m_zeros\u001B[49m\u001B[38;5;241;43m.\u001B[39;49m\u001B[43m_bisect\u001B[49m\u001B[43m(\u001B[49m\u001B[43mf\u001B[49m\u001B[43m,\u001B[49m\u001B[43m \u001B[49m\u001B[43ma\u001B[49m\u001B[43m,\u001B[49m\u001B[43m \u001B[49m\u001B[43mb\u001B[49m\u001B[43m,\u001B[49m\u001B[43m \u001B[49m\u001B[43mxtol\u001B[49m\u001B[43m,\u001B[49m\u001B[43m \u001B[49m\u001B[43mrtol\u001B[49m\u001B[43m,\u001B[49m\u001B[43m \u001B[49m\u001B[43mmaxiter\u001B[49m\u001B[43m,\u001B[49m\u001B[43m \u001B[49m\u001B[43margs\u001B[49m\u001B[43m,\u001B[49m\u001B[43m \u001B[49m\u001B[43mfull_output\u001B[49m\u001B[43m,\u001B[49m\u001B[43m \u001B[49m\u001B[43mdisp\u001B[49m\u001B[43m)\u001B[49m\n\u001B[1;32m    578\u001B[0m \u001B[38;5;28;01mreturn\u001B[39;00m results_c(full_output, r, \u001B[38;5;124m\"\u001B[39m\u001B[38;5;124mbisect\u001B[39m\u001B[38;5;124m\"\u001B[39m)\n",
      "File \u001B[0;32m~/Workdir/diploma/project/.venv/lib64/python3.12/site-packages/scipy/optimize/_zeros_py.py:94\u001B[0m, in \u001B[0;36m_wrap_nan_raise.<locals>.f_raise\u001B[0;34m(x, *args)\u001B[0m\n\u001B[1;32m     93\u001B[0m \u001B[38;5;28;01mdef\u001B[39;00m \u001B[38;5;21mf_raise\u001B[39m(x, \u001B[38;5;241m*\u001B[39margs):\n\u001B[0;32m---> 94\u001B[0m     fx \u001B[38;5;241m=\u001B[39m \u001B[43mf\u001B[49m\u001B[43m(\u001B[49m\u001B[43mx\u001B[49m\u001B[43m,\u001B[49m\u001B[43m \u001B[49m\u001B[38;5;241;43m*\u001B[39;49m\u001B[43margs\u001B[49m\u001B[43m)\u001B[49m\n\u001B[1;32m     95\u001B[0m     f_raise\u001B[38;5;241m.\u001B[39m_function_calls \u001B[38;5;241m+\u001B[39m\u001B[38;5;241m=\u001B[39m \u001B[38;5;241m1\u001B[39m\n\u001B[1;32m     96\u001B[0m     \u001B[38;5;28;01mif\u001B[39;00m np\u001B[38;5;241m.\u001B[39misnan(fx):\n",
      "Cell \u001B[0;32mIn[9], line 24\u001B[0m, in \u001B[0;36mcalculate_next_point_with_same_jacoby_constant.<locals>.find_alpha\u001B[0;34m(alpha_degrees)\u001B[0m\n\u001B[1;32m     22\u001B[0m state[[\u001B[38;5;241m0\u001B[39m,\u001B[38;5;241m2\u001B[39m]] \u001B[38;5;241m=\u001B[39m x, z\n\u001B[1;32m     23\u001B[0m v_calculated \u001B[38;5;241m=\u001B[39m calculate_velocity(state)\n\u001B[0;32m---> 24\u001B[0m v \u001B[38;5;241m=\u001B[39m \u001B[43mcorrection\u001B[49m\u001B[38;5;241m.\u001B[39mcalc_dv(\u001B[38;5;241m0\u001B[39m, state)[\u001B[38;5;241m4\u001B[39m]\n\u001B[1;32m     25\u001B[0m \u001B[38;5;28mprint\u001B[39m(\u001B[38;5;124m\"\u001B[39m\u001B[38;5;124mvelocity: \u001B[39m\u001B[38;5;124m\"\u001B[39m, v, v_calculated, np\u001B[38;5;241m.\u001B[39mabs(v_calculated \u001B[38;5;241m-\u001B[39m v))\n\u001B[1;32m     26\u001B[0m \u001B[38;5;28;01mreturn\u001B[39;00m v_calculated \u001B[38;5;241m-\u001B[39m np\u001B[38;5;241m.\u001B[39mabs(v)\n",
      "File \u001B[0;32m~/.local/share/JetBrains/Toolbox/apps/pycharm-professional/plugins/python-ce/helpers/pydev/_pydevd_bundle/pydevd_frame.py:888\u001B[0m, in \u001B[0;36mPyDBFrame.trace_dispatch\u001B[0;34m(self, frame, event, arg)\u001B[0m\n\u001B[1;32m    885\u001B[0m             stop \u001B[38;5;241m=\u001B[39m \u001B[38;5;28;01mFalse\u001B[39;00m\n\u001B[1;32m    887\u001B[0m \u001B[38;5;28;01mif\u001B[39;00m plugin_stop:\n\u001B[0;32m--> 888\u001B[0m     stopped_on_plugin \u001B[38;5;241m=\u001B[39m \u001B[43mplugin_manager\u001B[49m\u001B[38;5;241;43m.\u001B[39;49m\u001B[43mstop\u001B[49m\u001B[43m(\u001B[49m\u001B[43mmain_debugger\u001B[49m\u001B[43m,\u001B[49m\u001B[43m \u001B[49m\u001B[43mframe\u001B[49m\u001B[43m,\u001B[49m\u001B[43m \u001B[49m\u001B[43mevent\u001B[49m\u001B[43m,\u001B[49m\u001B[43m \u001B[49m\u001B[38;5;28;43mself\u001B[39;49m\u001B[38;5;241;43m.\u001B[39;49m\u001B[43m_args\u001B[49m\u001B[43m,\u001B[49m\u001B[43m \u001B[49m\u001B[43mstop_info\u001B[49m\u001B[43m,\u001B[49m\u001B[43m \u001B[49m\u001B[43marg\u001B[49m\u001B[43m,\u001B[49m\u001B[43m \u001B[49m\u001B[43mstep_cmd\u001B[49m\u001B[43m)\u001B[49m\n\u001B[1;32m    889\u001B[0m \u001B[38;5;28;01melif\u001B[39;00m stop:\n\u001B[1;32m    890\u001B[0m     \u001B[38;5;28;01mif\u001B[39;00m is_line:\n",
      "File \u001B[0;32m~/.local/share/JetBrains/Toolbox/apps/pycharm-professional/plugins/python/helpers-pro/jupyter_debug/pydev_jupyter_plugin.py:169\u001B[0m, in \u001B[0;36mstop\u001B[0;34m(plugin, pydb, frame, event, args, stop_info, arg, step_cmd)\u001B[0m\n\u001B[1;32m    167\u001B[0m     frame \u001B[38;5;241m=\u001B[39m suspend_jupyter(main_debugger, thread, frame, step_cmd)\n\u001B[1;32m    168\u001B[0m     \u001B[38;5;28;01mif\u001B[39;00m frame:\n\u001B[0;32m--> 169\u001B[0m         \u001B[43mmain_debugger\u001B[49m\u001B[38;5;241;43m.\u001B[39;49m\u001B[43mdo_wait_suspend\u001B[49m\u001B[43m(\u001B[49m\u001B[43mthread\u001B[49m\u001B[43m,\u001B[49m\u001B[43m \u001B[49m\u001B[43mframe\u001B[49m\u001B[43m,\u001B[49m\u001B[43m \u001B[49m\u001B[43mevent\u001B[49m\u001B[43m,\u001B[49m\u001B[43m \u001B[49m\u001B[43marg\u001B[49m\u001B[43m)\u001B[49m\n\u001B[1;32m    170\u001B[0m         \u001B[38;5;28;01mreturn\u001B[39;00m \u001B[38;5;28;01mTrue\u001B[39;00m\n\u001B[1;32m    171\u001B[0m \u001B[38;5;28;01mreturn\u001B[39;00m \u001B[38;5;28;01mFalse\u001B[39;00m\n",
      "File \u001B[0;32m~/.local/share/JetBrains/Toolbox/apps/pycharm-professional/plugins/python-ce/helpers/pydev/pydevd.py:1220\u001B[0m, in \u001B[0;36mPyDB.do_wait_suspend\u001B[0;34m(self, thread, frame, event, arg, send_suspend_message, is_unhandled_exception)\u001B[0m\n\u001B[1;32m   1217\u001B[0m         from_this_thread\u001B[38;5;241m.\u001B[39mappend(frame_id)\n\u001B[1;32m   1219\u001B[0m \u001B[38;5;28;01mwith\u001B[39;00m \u001B[38;5;28mself\u001B[39m\u001B[38;5;241m.\u001B[39m_threads_suspended_single_notification\u001B[38;5;241m.\u001B[39mnotify_thread_suspended(thread_id, stop_reason):\n\u001B[0;32m-> 1220\u001B[0m     \u001B[38;5;28;43mself\u001B[39;49m\u001B[38;5;241;43m.\u001B[39;49m\u001B[43m_do_wait_suspend\u001B[49m\u001B[43m(\u001B[49m\u001B[43mthread\u001B[49m\u001B[43m,\u001B[49m\u001B[43m \u001B[49m\u001B[43mframe\u001B[49m\u001B[43m,\u001B[49m\u001B[43m \u001B[49m\u001B[43mevent\u001B[49m\u001B[43m,\u001B[49m\u001B[43m \u001B[49m\u001B[43marg\u001B[49m\u001B[43m,\u001B[49m\u001B[43m \u001B[49m\u001B[43msuspend_type\u001B[49m\u001B[43m,\u001B[49m\u001B[43m \u001B[49m\u001B[43mfrom_this_thread\u001B[49m\u001B[43m)\u001B[49m\n",
      "File \u001B[0;32m~/.local/share/JetBrains/Toolbox/apps/pycharm-professional/plugins/python-ce/helpers/pydev/pydevd.py:1235\u001B[0m, in \u001B[0;36mPyDB._do_wait_suspend\u001B[0;34m(self, thread, frame, event, arg, suspend_type, from_this_thread)\u001B[0m\n\u001B[1;32m   1232\u001B[0m             \u001B[38;5;28mself\u001B[39m\u001B[38;5;241m.\u001B[39m_call_mpl_hook()\n\u001B[1;32m   1234\u001B[0m         \u001B[38;5;28mself\u001B[39m\u001B[38;5;241m.\u001B[39mprocess_internal_commands()\n\u001B[0;32m-> 1235\u001B[0m         \u001B[43mtime\u001B[49m\u001B[38;5;241;43m.\u001B[39;49m\u001B[43msleep\u001B[49m\u001B[43m(\u001B[49m\u001B[38;5;241;43m0.01\u001B[39;49m\u001B[43m)\u001B[49m\n\u001B[1;32m   1237\u001B[0m \u001B[38;5;28mself\u001B[39m\u001B[38;5;241m.\u001B[39mcancel_async_evaluation(get_current_thread_id(thread), \u001B[38;5;28mstr\u001B[39m(\u001B[38;5;28mid\u001B[39m(frame)))\n\u001B[1;32m   1239\u001B[0m \u001B[38;5;66;03m# process any stepping instructions\u001B[39;00m\n",
      "\u001B[0;31mKeyboardInterrupt\u001B[0m: "
     ]
    }
   ],
   "execution_count": 9
  },
  {
   "cell_type": "code",
   "execution_count": null,
   "id": "cb441887-7092-467e-8a17-5a67f8ad0a8f",
   "metadata": {},
   "outputs": [],
   "source": []
  }
 ],
 "metadata": {
  "kernelspec": {
   "display_name": "Python 3 (ipykernel)",
   "language": "python",
   "name": "python3"
  },
  "language_info": {
   "codemirror_mode": {
    "name": "ipython",
    "version": 3
   },
   "file_extension": ".py",
   "mimetype": "text/x-python",
   "name": "python",
   "nbconvert_exporter": "python",
   "pygments_lexer": "ipython3",
   "version": "3.12.8"
  }
 },
 "nbformat": 4,
 "nbformat_minor": 5
}
