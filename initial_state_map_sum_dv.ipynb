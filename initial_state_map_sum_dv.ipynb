{
 "cells": [
  {
   "cell_type": "code",
   "id": "initial_id",
   "metadata": {
    "collapsed": true,
    "ExecuteTime": {
     "end_time": "2025-03-23T14:54:57.808794Z",
     "start_time": "2025-03-23T14:54:57.805275Z"
    }
   },
   "source": [
    "import orbipy as op\n",
    "import numpy as np\n",
    "import pandas as pd\n",
    "from numba.core.ir import Raise\n",
    "from numba.np.arrayobj import np_array\n",
    "from orbipy import plotter\n",
    "from orbipy.correction import border_correction\n",
    "from scipy.optimize import bisect\n",
    "from matplotlib import pyplot as plt\n",
    "import pickle\n"
   ],
   "outputs": [],
   "execution_count": 4
  },
  {
   "metadata": {
    "ExecuteTime": {
     "end_time": "2025-03-23T14:54:30.323907Z",
     "start_time": "2025-03-23T14:54:30.308389Z"
    }
   },
   "cell_type": "code",
   "source": [
    "model = op.crtbp3_model('Earth-Moon (default)', integrator=op.dopri5_integrator(), stm=True)\n",
    "one_thousand_kms = (1-model.L1) / 61.350"
   ],
   "id": "9b56ce1e949f7f82",
   "outputs": [],
   "execution_count": 2
  },
  {
   "metadata": {},
   "cell_type": "code",
   "outputs": [],
   "execution_count": null,
   "source": [
    "\n",
    "data_zvl = np.load('data/contour_points/zvl/zvl_2.npy')\n",
    "data_zvl = np.c_[data_zvl, np.zeros(len(data_zvl))]\n",
    "\n",
    "with open(r\"data/contour_points/contour_points_data_3_points.pickle\", \"rb\") as input_file:\n",
    "    data = pickle.load(input_file)\n",
    "data_points = []\n",
    "for line in data:\n",
    "    for point in line:\n",
    "        data_points.append(point)\n",
    "        \n",
    "data_points = np.array(data_points)\n",
    "\n",
    "print(data_points)\n",
    "plt.scatter(data_zvl[:32,0], data_zvl[:32,1], c=data_zvl[:32,2], cmap='magma', s=2)\n",
    "plt.scatter(data_points[:,0], data_points[:,1], c=data_points[:,2], cmap='magma', s=2)\n",
    "\n",
    "ax = plt.gca()\n",
    "ax.set_aspect('equal', adjustable='box')\n",
    "plt.colorbar()\n",
    "plt.show()"
   ],
   "id": "2217d768658e15b3"
  }
 ],
 "metadata": {
  "kernelspec": {
   "display_name": "Python 3",
   "language": "python",
   "name": "python3"
  },
  "language_info": {
   "codemirror_mode": {
    "name": "ipython",
    "version": 2
   },
   "file_extension": ".py",
   "mimetype": "text/x-python",
   "name": "python",
   "nbconvert_exporter": "python",
   "pygments_lexer": "ipython2",
   "version": "2.7.6"
  }
 },
 "nbformat": 4,
 "nbformat_minor": 5
}
